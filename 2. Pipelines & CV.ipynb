{
 "cells": [
  {
   "cell_type": "markdown",
   "metadata": {
    "id": "Ts5KFotxxYOm"
   },
   "source": [
    "# Pipelines using Pandas"
   ]
  },
  {
   "cell_type": "code",
   "execution_count": 1,
   "metadata": {
    "colab": {
     "base_uri": "https://localhost:8080/",
     "height": 238
    },
    "id": "CEQ_N54kw0zT",
    "outputId": "c74b01f9-7304-4a8e-e781-b51235130ca3"
   },
   "outputs": [
    {
     "data": {
      "text/html": [
       "<div>\n",
       "<style scoped>\n",
       "    .dataframe tbody tr th:only-of-type {\n",
       "        vertical-align: middle;\n",
       "    }\n",
       "\n",
       "    .dataframe tbody tr th {\n",
       "        vertical-align: top;\n",
       "    }\n",
       "\n",
       "    .dataframe thead th {\n",
       "        text-align: right;\n",
       "    }\n",
       "</style>\n",
       "<table border=\"1\" class=\"dataframe\">\n",
       "  <thead>\n",
       "    <tr style=\"text-align: right;\">\n",
       "      <th></th>\n",
       "      <th>Full_Name</th>\n",
       "      <th>Degree</th>\n",
       "      <th>From</th>\n",
       "      <th>Application_date</th>\n",
       "      <th>From_office (min)</th>\n",
       "    </tr>\n",
       "  </thead>\n",
       "  <tbody>\n",
       "    <tr>\n",
       "      <th>0</th>\n",
       "      <td>Aida, Kone</td>\n",
       "      <td>Master</td>\n",
       "      <td>Abidjan</td>\n",
       "      <td>2022-11-17</td>\n",
       "      <td>120</td>\n",
       "    </tr>\n",
       "    <tr>\n",
       "      <th>1</th>\n",
       "      <td>Mamadou, Diop</td>\n",
       "      <td>Master</td>\n",
       "      <td>Dakar</td>\n",
       "      <td>2022-09-23</td>\n",
       "      <td>95</td>\n",
       "    </tr>\n",
       "    <tr>\n",
       "      <th>2</th>\n",
       "      <td>Ismael, Camara</td>\n",
       "      <td>Bachelor</td>\n",
       "      <td>Bamako</td>\n",
       "      <td>2021-12-02</td>\n",
       "      <td>75</td>\n",
       "    </tr>\n",
       "    <tr>\n",
       "      <th>3</th>\n",
       "      <td>Aicha, Konate</td>\n",
       "      <td>PhD</td>\n",
       "      <td>Abidjan</td>\n",
       "      <td>2022-08-25</td>\n",
       "      <td>80</td>\n",
       "    </tr>\n",
       "    <tr>\n",
       "      <th>4</th>\n",
       "      <td>Fanta, Koumare</td>\n",
       "      <td>Master</td>\n",
       "      <td>Konakry</td>\n",
       "      <td>2022-01-07</td>\n",
       "      <td>100</td>\n",
       "    </tr>\n",
       "    <tr>\n",
       "      <th>5</th>\n",
       "      <td>Khalil, Cisse</td>\n",
       "      <td>PhD</td>\n",
       "      <td>Lomé</td>\n",
       "      <td>2022-12-26</td>\n",
       "      <td>34</td>\n",
       "    </tr>\n",
       "  </tbody>\n",
       "</table>\n",
       "</div>"
      ],
      "text/plain": [
       "        Full_Name    Degree     From Application_date  From_office (min)\n",
       "0      Aida, Kone    Master  Abidjan       2022-11-17                120\n",
       "1   Mamadou, Diop    Master    Dakar       2022-09-23                 95\n",
       "2  Ismael, Camara  Bachelor   Bamako       2021-12-02                 75\n",
       "3   Aicha, Konate       PhD  Abidjan       2022-08-25                 80\n",
       "4  Fanta, Koumare    Master  Konakry       2022-01-07                100\n",
       "5   Khalil, Cisse       PhD     Lomé       2022-12-26                 34"
      ]
     },
     "execution_count": 1,
     "metadata": {},
     "output_type": "execute_result"
    }
   ],
   "source": [
    "import pandas as pd\n",
    "\n",
    "candidates= {\n",
    "    'Full_Name':[\"Aida, Kone\",\"Mamadou, Diop\",\"Ismael, Camara\",\"Aicha, Konate\",\n",
    "                 \"Fanta, Koumare\", \"Khalil, Cisse\"],\n",
    "    'Degree':['Master','Master','Bachelor', \"PhD\", \"Master\", \"PhD\"],\n",
    "    'From':[\"Abidjan\",\"Dakar\",\"Bamako\", \"Abidjan\",\"Konakry\", \"Lomé\"],\n",
    "    'Application_date': ['11/17/2022', '09/23/2022', '12/2/2021', \n",
    "                         '08/25/2022', '01/07/2022', '12/26/2022'],\n",
    "    'From_office (min)': [120,95,75, 80,100, 34]\n",
    "          }\n",
    "candidates_df = pd.DataFrame(candidates)\n",
    "candidates_df['Application_date'] = pd.to_datetime(candidates_df[\"Application_date\"])\n",
    "\n",
    "candidates_df"
   ]
  },
  {
   "cell_type": "markdown",
   "metadata": {
    "id": "1MbNoUYOxAoE"
   },
   "source": [
    "**Task 1**"
   ]
  },
  {
   "cell_type": "code",
   "execution_count": 2,
   "metadata": {
    "colab": {
     "base_uri": "https://localhost:8080/",
     "height": 238
    },
    "id": "PoMi4tN0w5JC",
    "outputId": "92cb0f94-49d6-4b37-dbec-f344893862f5"
   },
   "outputs": [
    {
     "data": {
      "text/html": [
       "<div>\n",
       "<style scoped>\n",
       "    .dataframe tbody tr th:only-of-type {\n",
       "        vertical-align: middle;\n",
       "    }\n",
       "\n",
       "    .dataframe tbody tr th {\n",
       "        vertical-align: top;\n",
       "    }\n",
       "\n",
       "    .dataframe thead th {\n",
       "        text-align: right;\n",
       "    }\n",
       "</style>\n",
       "<table border=\"1\" class=\"dataframe\">\n",
       "  <thead>\n",
       "    <tr style=\"text-align: right;\">\n",
       "      <th></th>\n",
       "      <th>Full_Name</th>\n",
       "      <th>Degree</th>\n",
       "      <th>From</th>\n",
       "      <th>Application_date</th>\n",
       "      <th>From_office (min)</th>\n",
       "      <th>First_Name</th>\n",
       "      <th>Last_Name</th>\n",
       "    </tr>\n",
       "  </thead>\n",
       "  <tbody>\n",
       "    <tr>\n",
       "      <th>0</th>\n",
       "      <td>Aida, Kone</td>\n",
       "      <td>Master</td>\n",
       "      <td>Abidjan</td>\n",
       "      <td>2022-11-17</td>\n",
       "      <td>120</td>\n",
       "      <td>Aida</td>\n",
       "      <td>Kone</td>\n",
       "    </tr>\n",
       "    <tr>\n",
       "      <th>1</th>\n",
       "      <td>Mamadou, Diop</td>\n",
       "      <td>Master</td>\n",
       "      <td>Dakar</td>\n",
       "      <td>2022-09-23</td>\n",
       "      <td>95</td>\n",
       "      <td>Mamadou</td>\n",
       "      <td>Diop</td>\n",
       "    </tr>\n",
       "    <tr>\n",
       "      <th>2</th>\n",
       "      <td>Ismael, Camara</td>\n",
       "      <td>Bachelor</td>\n",
       "      <td>Bamako</td>\n",
       "      <td>2021-12-02</td>\n",
       "      <td>75</td>\n",
       "      <td>Ismael</td>\n",
       "      <td>Camara</td>\n",
       "    </tr>\n",
       "    <tr>\n",
       "      <th>3</th>\n",
       "      <td>Aicha, Konate</td>\n",
       "      <td>PhD</td>\n",
       "      <td>Abidjan</td>\n",
       "      <td>2022-08-25</td>\n",
       "      <td>80</td>\n",
       "      <td>Aicha</td>\n",
       "      <td>Konate</td>\n",
       "    </tr>\n",
       "    <tr>\n",
       "      <th>4</th>\n",
       "      <td>Fanta, Koumare</td>\n",
       "      <td>Master</td>\n",
       "      <td>Konakry</td>\n",
       "      <td>2022-01-07</td>\n",
       "      <td>100</td>\n",
       "      <td>Fanta</td>\n",
       "      <td>Koumare</td>\n",
       "    </tr>\n",
       "    <tr>\n",
       "      <th>5</th>\n",
       "      <td>Khalil, Cisse</td>\n",
       "      <td>PhD</td>\n",
       "      <td>Lomé</td>\n",
       "      <td>2022-12-26</td>\n",
       "      <td>34</td>\n",
       "      <td>Khalil</td>\n",
       "      <td>Cisse</td>\n",
       "    </tr>\n",
       "  </tbody>\n",
       "</table>\n",
       "</div>"
      ],
      "text/plain": [
       "        Full_Name    Degree     From Application_date  From_office (min)  \\\n",
       "0      Aida, Kone    Master  Abidjan       2022-11-17                120   \n",
       "1   Mamadou, Diop    Master    Dakar       2022-09-23                 95   \n",
       "2  Ismael, Camara  Bachelor   Bamako       2021-12-02                 75   \n",
       "3   Aicha, Konate       PhD  Abidjan       2022-08-25                 80   \n",
       "4  Fanta, Koumare    Master  Konakry       2022-01-07                100   \n",
       "5   Khalil, Cisse       PhD     Lomé       2022-12-26                 34   \n",
       "\n",
       "  First_Name Last_Name  \n",
       "0       Aida      Kone  \n",
       "1    Mamadou      Diop  \n",
       "2     Ismael    Camara  \n",
       "3      Aicha    Konate  \n",
       "4      Fanta   Koumare  \n",
       "5     Khalil     Cisse  "
      ]
     },
     "execution_count": 2,
     "metadata": {},
     "output_type": "execute_result"
    }
   ],
   "source": [
    "def get_first_last_name(df, col_name):\n",
    "\n",
    "  final_df = df.copy()\n",
    "\n",
    "  splited_full_name = final_df[col_name].str.split(\",\", expand=True)\n",
    "\n",
    "  final_df[\"First_Name\"] = splited_full_name.get(0)\n",
    "  final_df[\"Last_Name\"] = splited_full_name.get(1)\n",
    "\n",
    "  return final_df\n",
    "\n",
    "result_task1 = get_first_last_name(candidates_df, \"Full_Name\")\n",
    "result_task1"
   ]
  },
  {
   "cell_type": "code",
   "execution_count": 3,
   "metadata": {},
   "outputs": [],
   "source": [
    "#candidates_df[\"Full_Name\"].str.split(\",\", expand=True)"
   ]
  },
  {
   "cell_type": "markdown",
   "metadata": {
    "id": "UAXC0g0kxFER"
   },
   "source": [
    "**Task 2**"
   ]
  },
  {
   "cell_type": "code",
   "execution_count": 4,
   "metadata": {
    "colab": {
     "base_uri": "https://localhost:8080/",
     "height": 238
    },
    "id": "XWAGmWefxB16",
    "outputId": "c2507f84-c1f2-4c8b-a70e-7400d875dbe9"
   },
   "outputs": [
    {
     "data": {
      "text/html": [
       "<div>\n",
       "<style scoped>\n",
       "    .dataframe tbody tr th:only-of-type {\n",
       "        vertical-align: middle;\n",
       "    }\n",
       "\n",
       "    .dataframe tbody tr th {\n",
       "        vertical-align: top;\n",
       "    }\n",
       "\n",
       "    .dataframe thead th {\n",
       "        text-align: right;\n",
       "    }\n",
       "</style>\n",
       "<table border=\"1\" class=\"dataframe\">\n",
       "  <thead>\n",
       "    <tr style=\"text-align: right;\">\n",
       "      <th></th>\n",
       "      <th>Full_Name</th>\n",
       "      <th>Degree</th>\n",
       "      <th>From</th>\n",
       "      <th>Application_date</th>\n",
       "      <th>From_office (min)</th>\n",
       "      <th>Day</th>\n",
       "      <th>Month</th>\n",
       "      <th>Year</th>\n",
       "      <th>Day_of_week</th>\n",
       "      <th>Month_of_year</th>\n",
       "    </tr>\n",
       "  </thead>\n",
       "  <tbody>\n",
       "    <tr>\n",
       "      <th>0</th>\n",
       "      <td>Aida, Kone</td>\n",
       "      <td>Master</td>\n",
       "      <td>Abidjan</td>\n",
       "      <td>2022-11-17</td>\n",
       "      <td>120</td>\n",
       "      <td>17</td>\n",
       "      <td>11</td>\n",
       "      <td>2022</td>\n",
       "      <td>Thursday</td>\n",
       "      <td>November</td>\n",
       "    </tr>\n",
       "    <tr>\n",
       "      <th>1</th>\n",
       "      <td>Mamadou, Diop</td>\n",
       "      <td>Master</td>\n",
       "      <td>Dakar</td>\n",
       "      <td>2022-09-23</td>\n",
       "      <td>95</td>\n",
       "      <td>23</td>\n",
       "      <td>9</td>\n",
       "      <td>2022</td>\n",
       "      <td>Friday</td>\n",
       "      <td>September</td>\n",
       "    </tr>\n",
       "    <tr>\n",
       "      <th>2</th>\n",
       "      <td>Ismael, Camara</td>\n",
       "      <td>Bachelor</td>\n",
       "      <td>Bamako</td>\n",
       "      <td>2021-12-02</td>\n",
       "      <td>75</td>\n",
       "      <td>2</td>\n",
       "      <td>12</td>\n",
       "      <td>2021</td>\n",
       "      <td>Thursday</td>\n",
       "      <td>December</td>\n",
       "    </tr>\n",
       "    <tr>\n",
       "      <th>3</th>\n",
       "      <td>Aicha, Konate</td>\n",
       "      <td>PhD</td>\n",
       "      <td>Abidjan</td>\n",
       "      <td>2022-08-25</td>\n",
       "      <td>80</td>\n",
       "      <td>25</td>\n",
       "      <td>8</td>\n",
       "      <td>2022</td>\n",
       "      <td>Thursday</td>\n",
       "      <td>August</td>\n",
       "    </tr>\n",
       "    <tr>\n",
       "      <th>4</th>\n",
       "      <td>Fanta, Koumare</td>\n",
       "      <td>Master</td>\n",
       "      <td>Konakry</td>\n",
       "      <td>2022-01-07</td>\n",
       "      <td>100</td>\n",
       "      <td>7</td>\n",
       "      <td>1</td>\n",
       "      <td>2022</td>\n",
       "      <td>Friday</td>\n",
       "      <td>January</td>\n",
       "    </tr>\n",
       "    <tr>\n",
       "      <th>5</th>\n",
       "      <td>Khalil, Cisse</td>\n",
       "      <td>PhD</td>\n",
       "      <td>Lomé</td>\n",
       "      <td>2022-12-26</td>\n",
       "      <td>34</td>\n",
       "      <td>26</td>\n",
       "      <td>12</td>\n",
       "      <td>2022</td>\n",
       "      <td>Monday</td>\n",
       "      <td>December</td>\n",
       "    </tr>\n",
       "  </tbody>\n",
       "</table>\n",
       "</div>"
      ],
      "text/plain": [
       "        Full_Name    Degree     From Application_date  From_office (min)  Day  \\\n",
       "0      Aida, Kone    Master  Abidjan       2022-11-17                120   17   \n",
       "1   Mamadou, Diop    Master    Dakar       2022-09-23                 95   23   \n",
       "2  Ismael, Camara  Bachelor   Bamako       2021-12-02                 75    2   \n",
       "3   Aicha, Konate       PhD  Abidjan       2022-08-25                 80   25   \n",
       "4  Fanta, Koumare    Master  Konakry       2022-01-07                100    7   \n",
       "5   Khalil, Cisse       PhD     Lomé       2022-12-26                 34   26   \n",
       "\n",
       "   Month  Year Day_of_week Month_of_year  \n",
       "0     11  2022    Thursday      November  \n",
       "1      9  2022      Friday     September  \n",
       "2     12  2021    Thursday      December  \n",
       "3      8  2022    Thursday        August  \n",
       "4      1  2022      Friday       January  \n",
       "5     12  2022      Monday      December  "
      ]
     },
     "execution_count": 4,
     "metadata": {},
     "output_type": "execute_result"
    }
   ],
   "source": [
    "def get_application_date_info(df, column_name):\n",
    "\n",
    "  application_date = df[column_name]\n",
    "\n",
    "  final_df = df.copy()\n",
    "\n",
    "  final_df[\"Day\"] = application_date.dt.day \n",
    "  final_df[\"Month\"] = application_date.dt.month \n",
    "  final_df[\"Year\"] = application_date.dt.year \n",
    "  final_df[\"Day_of_week\"] = application_date.dt.day_name()\n",
    "  final_df[\"Month_of_year\"] = application_date.dt.month_name()\n",
    "\n",
    "  return final_df\n",
    "\n",
    "result_task2 = get_application_date_info(candidates_df, \"Application_date\")\n",
    "result_task2"
   ]
  },
  {
   "cell_type": "markdown",
   "metadata": {
    "id": "aE3U8aOkxJXx"
   },
   "source": [
    "**Task 3**"
   ]
  },
  {
   "cell_type": "code",
   "execution_count": 5,
   "metadata": {
    "colab": {
     "base_uri": "https://localhost:8080/",
     "height": 238
    },
    "id": "q-P2MJp8xGgB",
    "outputId": "0204f94d-cc23-4ec6-95d4-62cab082a062"
   },
   "outputs": [
    {
     "data": {
      "text/html": [
       "<div>\n",
       "<style scoped>\n",
       "    .dataframe tbody tr th:only-of-type {\n",
       "        vertical-align: middle;\n",
       "    }\n",
       "\n",
       "    .dataframe tbody tr th {\n",
       "        vertical-align: top;\n",
       "    }\n",
       "\n",
       "    .dataframe thead th {\n",
       "        text-align: right;\n",
       "    }\n",
       "</style>\n",
       "<table border=\"1\" class=\"dataframe\">\n",
       "  <thead>\n",
       "    <tr style=\"text-align: right;\">\n",
       "      <th></th>\n",
       "      <th>Full_Name</th>\n",
       "      <th>Degree</th>\n",
       "      <th>From</th>\n",
       "      <th>Application_date</th>\n",
       "      <th>From_office (min)</th>\n",
       "      <th>Info</th>\n",
       "    </tr>\n",
       "  </thead>\n",
       "  <tbody>\n",
       "    <tr>\n",
       "      <th>0</th>\n",
       "      <td>Aida, Kone</td>\n",
       "      <td>Master</td>\n",
       "      <td>Abidjan</td>\n",
       "      <td>2022-11-17</td>\n",
       "      <td>120</td>\n",
       "      <td>Aida  Kone from Abidjan holds a Master degree ...</td>\n",
       "    </tr>\n",
       "    <tr>\n",
       "      <th>1</th>\n",
       "      <td>Mamadou, Diop</td>\n",
       "      <td>Master</td>\n",
       "      <td>Dakar</td>\n",
       "      <td>2022-09-23</td>\n",
       "      <td>95</td>\n",
       "      <td>Mamadou  Diop from Dakar holds a Master degree...</td>\n",
       "    </tr>\n",
       "    <tr>\n",
       "      <th>2</th>\n",
       "      <td>Ismael, Camara</td>\n",
       "      <td>Bachelor</td>\n",
       "      <td>Bamako</td>\n",
       "      <td>2021-12-02</td>\n",
       "      <td>75</td>\n",
       "      <td>Ismael  Camara from Bamako holds a Bachelor de...</td>\n",
       "    </tr>\n",
       "    <tr>\n",
       "      <th>3</th>\n",
       "      <td>Aicha, Konate</td>\n",
       "      <td>PhD</td>\n",
       "      <td>Abidjan</td>\n",
       "      <td>2022-08-25</td>\n",
       "      <td>80</td>\n",
       "      <td>Aicha  Konate from Abidjan holds a PhD degree ...</td>\n",
       "    </tr>\n",
       "    <tr>\n",
       "      <th>4</th>\n",
       "      <td>Fanta, Koumare</td>\n",
       "      <td>Master</td>\n",
       "      <td>Konakry</td>\n",
       "      <td>2022-01-07</td>\n",
       "      <td>100</td>\n",
       "      <td>Fanta  Koumare from Konakry holds a Master deg...</td>\n",
       "    </tr>\n",
       "    <tr>\n",
       "      <th>5</th>\n",
       "      <td>Khalil, Cisse</td>\n",
       "      <td>PhD</td>\n",
       "      <td>Lomé</td>\n",
       "      <td>2022-12-26</td>\n",
       "      <td>34</td>\n",
       "      <td>Khalil  Cisse from Lomé holds a PhD degree \\n ...</td>\n",
       "    </tr>\n",
       "  </tbody>\n",
       "</table>\n",
       "</div>"
      ],
      "text/plain": [
       "        Full_Name    Degree     From Application_date  From_office (min)  \\\n",
       "0      Aida, Kone    Master  Abidjan       2022-11-17                120   \n",
       "1   Mamadou, Diop    Master    Dakar       2022-09-23                 95   \n",
       "2  Ismael, Camara  Bachelor   Bamako       2021-12-02                 75   \n",
       "3   Aicha, Konate       PhD  Abidjan       2022-08-25                 80   \n",
       "4  Fanta, Koumare    Master  Konakry       2022-01-07                100   \n",
       "5   Khalil, Cisse       PhD     Lomé       2022-12-26                 34   \n",
       "\n",
       "                                                Info  \n",
       "0  Aida  Kone from Abidjan holds a Master degree ...  \n",
       "1  Mamadou  Diop from Dakar holds a Master degree...  \n",
       "2  Ismael  Camara from Bamako holds a Bachelor de...  \n",
       "3  Aicha  Konate from Abidjan holds a PhD degree ...  \n",
       "4  Fanta  Koumare from Konakry holds a Master deg...  \n",
       "5  Khalil  Cisse from Lomé holds a PhD degree \\n ...  "
      ]
     },
     "execution_count": 5,
     "metadata": {},
     "output_type": "execute_result"
    }
   ],
   "source": [
    "def info_by_row(row):\n",
    "\n",
    "  # Select columns of interest \n",
    "  full_name = row.Full_Name.replace(\",\", \" \")\n",
    "  is_from = row.From\n",
    "  degree = row.Degree\n",
    "  from_office = row[\"From_office (min)\"]\n",
    "\n",
    "  # Generate the description from previous variables\n",
    "  info = f\"\"\"{full_name} from {is_from} holds a {degree} degree \n",
    "              and lives {from_office} from the office\"\"\"\n",
    "\n",
    "  return info\n",
    "\n",
    "# Create the info\n",
    "def candidate_info(df):\n",
    "\n",
    "  final_df = df.copy()\n",
    "\n",
    "  final_df[\"Info\"] = final_df.apply(lambda row: info_by_row(row), axis=1)\n",
    "\n",
    "  return final_df\n",
    "\n",
    "# Apply the function for Task 3\n",
    "result_task3 = candidate_info(candidates_df)\n",
    "result_task3"
   ]
  },
  {
   "cell_type": "markdown",
   "metadata": {
    "id": "PgDPe02UxLzW"
   },
   "source": [
    "**Use of Pipe**"
   ]
  },
  {
   "cell_type": "code",
   "execution_count": 6,
   "metadata": {
    "colab": {
     "base_uri": "https://localhost:8080/",
     "height": 238
    },
    "id": "Y46En3VrxLRp",
    "outputId": "e2ca2522-d8ec-427c-9baf-f17559aa9978"
   },
   "outputs": [
    {
     "data": {
      "text/html": [
       "<div>\n",
       "<style scoped>\n",
       "    .dataframe tbody tr th:only-of-type {\n",
       "        vertical-align: middle;\n",
       "    }\n",
       "\n",
       "    .dataframe tbody tr th {\n",
       "        vertical-align: top;\n",
       "    }\n",
       "\n",
       "    .dataframe thead th {\n",
       "        text-align: right;\n",
       "    }\n",
       "</style>\n",
       "<table border=\"1\" class=\"dataframe\">\n",
       "  <thead>\n",
       "    <tr style=\"text-align: right;\">\n",
       "      <th></th>\n",
       "      <th>Full_Name</th>\n",
       "      <th>Degree</th>\n",
       "      <th>From</th>\n",
       "      <th>Application_date</th>\n",
       "      <th>From_office (min)</th>\n",
       "      <th>First_Name</th>\n",
       "      <th>Last_Name</th>\n",
       "      <th>Day</th>\n",
       "      <th>Month</th>\n",
       "      <th>Year</th>\n",
       "      <th>Day_of_week</th>\n",
       "      <th>Month_of_year</th>\n",
       "      <th>Info</th>\n",
       "    </tr>\n",
       "  </thead>\n",
       "  <tbody>\n",
       "    <tr>\n",
       "      <th>0</th>\n",
       "      <td>Aida, Kone</td>\n",
       "      <td>Master</td>\n",
       "      <td>Abidjan</td>\n",
       "      <td>2022-11-17</td>\n",
       "      <td>120</td>\n",
       "      <td>Aida</td>\n",
       "      <td>Kone</td>\n",
       "      <td>17</td>\n",
       "      <td>11</td>\n",
       "      <td>2022</td>\n",
       "      <td>Thursday</td>\n",
       "      <td>November</td>\n",
       "      <td>Aida  Kone from Abidjan holds a Master degree ...</td>\n",
       "    </tr>\n",
       "    <tr>\n",
       "      <th>1</th>\n",
       "      <td>Mamadou, Diop</td>\n",
       "      <td>Master</td>\n",
       "      <td>Dakar</td>\n",
       "      <td>2022-09-23</td>\n",
       "      <td>95</td>\n",
       "      <td>Mamadou</td>\n",
       "      <td>Diop</td>\n",
       "      <td>23</td>\n",
       "      <td>9</td>\n",
       "      <td>2022</td>\n",
       "      <td>Friday</td>\n",
       "      <td>September</td>\n",
       "      <td>Mamadou  Diop from Dakar holds a Master degree...</td>\n",
       "    </tr>\n",
       "    <tr>\n",
       "      <th>2</th>\n",
       "      <td>Ismael, Camara</td>\n",
       "      <td>Bachelor</td>\n",
       "      <td>Bamako</td>\n",
       "      <td>2021-12-02</td>\n",
       "      <td>75</td>\n",
       "      <td>Ismael</td>\n",
       "      <td>Camara</td>\n",
       "      <td>2</td>\n",
       "      <td>12</td>\n",
       "      <td>2021</td>\n",
       "      <td>Thursday</td>\n",
       "      <td>December</td>\n",
       "      <td>Ismael  Camara from Bamako holds a Bachelor de...</td>\n",
       "    </tr>\n",
       "    <tr>\n",
       "      <th>3</th>\n",
       "      <td>Aicha, Konate</td>\n",
       "      <td>PhD</td>\n",
       "      <td>Abidjan</td>\n",
       "      <td>2022-08-25</td>\n",
       "      <td>80</td>\n",
       "      <td>Aicha</td>\n",
       "      <td>Konate</td>\n",
       "      <td>25</td>\n",
       "      <td>8</td>\n",
       "      <td>2022</td>\n",
       "      <td>Thursday</td>\n",
       "      <td>August</td>\n",
       "      <td>Aicha  Konate from Abidjan holds a PhD degree ...</td>\n",
       "    </tr>\n",
       "    <tr>\n",
       "      <th>4</th>\n",
       "      <td>Fanta, Koumare</td>\n",
       "      <td>Master</td>\n",
       "      <td>Konakry</td>\n",
       "      <td>2022-01-07</td>\n",
       "      <td>100</td>\n",
       "      <td>Fanta</td>\n",
       "      <td>Koumare</td>\n",
       "      <td>7</td>\n",
       "      <td>1</td>\n",
       "      <td>2022</td>\n",
       "      <td>Friday</td>\n",
       "      <td>January</td>\n",
       "      <td>Fanta  Koumare from Konakry holds a Master deg...</td>\n",
       "    </tr>\n",
       "    <tr>\n",
       "      <th>5</th>\n",
       "      <td>Khalil, Cisse</td>\n",
       "      <td>PhD</td>\n",
       "      <td>Lomé</td>\n",
       "      <td>2022-12-26</td>\n",
       "      <td>34</td>\n",
       "      <td>Khalil</td>\n",
       "      <td>Cisse</td>\n",
       "      <td>26</td>\n",
       "      <td>12</td>\n",
       "      <td>2022</td>\n",
       "      <td>Monday</td>\n",
       "      <td>December</td>\n",
       "      <td>Khalil  Cisse from Lomé holds a PhD degree \\n ...</td>\n",
       "    </tr>\n",
       "  </tbody>\n",
       "</table>\n",
       "</div>"
      ],
      "text/plain": [
       "        Full_Name    Degree     From Application_date  From_office (min)  \\\n",
       "0      Aida, Kone    Master  Abidjan       2022-11-17                120   \n",
       "1   Mamadou, Diop    Master    Dakar       2022-09-23                 95   \n",
       "2  Ismael, Camara  Bachelor   Bamako       2021-12-02                 75   \n",
       "3   Aicha, Konate       PhD  Abidjan       2022-08-25                 80   \n",
       "4  Fanta, Koumare    Master  Konakry       2022-01-07                100   \n",
       "5   Khalil, Cisse       PhD     Lomé       2022-12-26                 34   \n",
       "\n",
       "  First_Name Last_Name  Day  Month  Year Day_of_week Month_of_year  \\\n",
       "0       Aida      Kone   17     11  2022    Thursday      November   \n",
       "1    Mamadou      Diop   23      9  2022      Friday     September   \n",
       "2     Ismael    Camara    2     12  2021    Thursday      December   \n",
       "3      Aicha    Konate   25      8  2022    Thursday        August   \n",
       "4      Fanta   Koumare    7      1  2022      Friday       January   \n",
       "5     Khalil     Cisse   26     12  2022      Monday      December   \n",
       "\n",
       "                                                Info  \n",
       "0  Aida  Kone from Abidjan holds a Master degree ...  \n",
       "1  Mamadou  Diop from Dakar holds a Master degree...  \n",
       "2  Ismael  Camara from Bamako holds a Bachelor de...  \n",
       "3  Aicha  Konate from Abidjan holds a PhD degree ...  \n",
       "4  Fanta  Koumare from Konakry holds a Master deg...  \n",
       "5  Khalil  Cisse from Lomé holds a PhD degree \\n ...  "
      ]
     },
     "execution_count": 6,
     "metadata": {},
     "output_type": "execute_result"
    }
   ],
   "source": [
    "# Create the pipe by using calling all the functions. \n",
    "preprocessed_candidates = (candidates_df.\n",
    "                            pipe(get_first_last_name, \"Full_Name\").\n",
    "                            pipe(get_application_date_info, \"Application_date\").\n",
    "                            pipe(candidate_info)\n",
    "                          )\n",
    "\n",
    "# Show the final result\n",
    "preprocessed_candidates"
   ]
  },
  {
   "cell_type": "code",
   "execution_count": null,
   "metadata": {
    "id": "1AAyDPvJxKhj"
   },
   "outputs": [],
   "source": []
  },
  {
   "cell_type": "markdown",
   "metadata": {},
   "source": [
    "# Cross Validation"
   ]
  },
  {
   "cell_type": "code",
   "execution_count": 38,
   "metadata": {},
   "outputs": [],
   "source": [
    "from sklearn.datasets import load_iris\n",
    "from sklearn.model_selection import cross_val_score\n",
    "from sklearn.linear_model import LogisticRegression\n",
    "from sklearn.tree import DecisionTreeClassifier\n",
    "from sklearn.svm import SVC\n",
    "from sklearn.ensemble import RandomForestClassifier\n",
    "import numpy as np"
   ]
  },
  {
   "cell_type": "code",
   "execution_count": 14,
   "metadata": {},
   "outputs": [],
   "source": [
    "iris = load_iris()"
   ]
  },
  {
   "cell_type": "markdown",
   "metadata": {},
   "source": [
    "**Logistic Regression**"
   ]
  },
  {
   "cell_type": "code",
   "execution_count": 37,
   "metadata": {},
   "outputs": [
    {
     "name": "stderr",
     "output_type": "stream",
     "text": [
      "/Users/jpolanco/opt/anaconda3/lib/python3.9/site-packages/sklearn/linear_model/_logistic.py:444: ConvergenceWarning: lbfgs failed to converge (status=1):\n",
      "STOP: TOTAL NO. of ITERATIONS REACHED LIMIT.\n",
      "\n",
      "Increase the number of iterations (max_iter) or scale the data as shown in:\n",
      "    https://scikit-learn.org/stable/modules/preprocessing.html\n",
      "Please also refer to the documentation for alternative solver options:\n",
      "    https://scikit-learn.org/stable/modules/linear_model.html#logistic-regression\n",
      "  n_iter_i = _check_optimize_result(\n"
     ]
    },
    {
     "data": {
      "text/plain": [
       "array([0.96666667, 1.        , 0.93333333, 0.96666667, 1.        ])"
      ]
     },
     "execution_count": 37,
     "metadata": {},
     "output_type": "execute_result"
    }
   ],
   "source": [
    "l_scores = cross_val_score(LogisticRegression(), iris.data, iris.target, cv=5)\n",
    "l_scores"
   ]
  },
  {
   "cell_type": "code",
   "execution_count": 31,
   "metadata": {},
   "outputs": [
    {
     "data": {
      "text/plain": [
       "0.9733285917496444"
      ]
     },
     "execution_count": 31,
     "metadata": {},
     "output_type": "execute_result"
    }
   ],
   "source": [
    "np.average(l_scores)"
   ]
  },
  {
   "cell_type": "markdown",
   "metadata": {},
   "source": [
    "**Supported Vector Machines**"
   ]
  },
  {
   "cell_type": "code",
   "execution_count": 35,
   "metadata": {},
   "outputs": [
    {
     "data": {
      "text/plain": [
       "array([0.96666667, 0.96666667, 0.96666667, 0.93333333, 1.        ])"
      ]
     },
     "execution_count": 35,
     "metadata": {},
     "output_type": "execute_result"
    }
   ],
   "source": [
    "s_scores = cross_val_score(SVC(), iris.data, iris.target, cv=5)\n",
    "s_scores"
   ]
  },
  {
   "cell_type": "code",
   "execution_count": 36,
   "metadata": {},
   "outputs": [
    {
     "data": {
      "text/plain": [
       "0.9666666666666666"
      ]
     },
     "execution_count": 36,
     "metadata": {},
     "output_type": "execute_result"
    }
   ],
   "source": [
    "np.average(s_scores)"
   ]
  },
  {
   "cell_type": "markdown",
   "metadata": {},
   "source": [
    "**Riesgos de no usar CV**"
   ]
  },
  {
   "cell_type": "code",
   "execution_count": 40,
   "metadata": {},
   "outputs": [],
   "source": [
    "from sklearn.datasets import load_digits\n",
    "digits = load_digits()"
   ]
  },
  {
   "cell_type": "markdown",
   "metadata": {},
   "source": [
    "**CAMBIAR EL RANDOM STATE!!** , random_state=124"
   ]
  },
  {
   "cell_type": "code",
   "execution_count": 88,
   "metadata": {},
   "outputs": [],
   "source": [
    "from sklearn.model_selection import train_test_split\n",
    "X_train, X_test, y_train, y_test =  train_test_split(digits.data, digits.target,\n",
    "                                                    test_size=0.3)"
   ]
  },
  {
   "cell_type": "code",
   "execution_count": 89,
   "metadata": {},
   "outputs": [
    {
     "name": "stderr",
     "output_type": "stream",
     "text": [
      "/Users/jpolanco/opt/anaconda3/lib/python3.9/site-packages/sklearn/linear_model/_logistic.py:444: ConvergenceWarning: lbfgs failed to converge (status=1):\n",
      "STOP: TOTAL NO. of ITERATIONS REACHED LIMIT.\n",
      "\n",
      "Increase the number of iterations (max_iter) or scale the data as shown in:\n",
      "    https://scikit-learn.org/stable/modules/preprocessing.html\n",
      "Please also refer to the documentation for alternative solver options:\n",
      "    https://scikit-learn.org/stable/modules/linear_model.html#logistic-regression\n",
      "  n_iter_i = _check_optimize_result(\n"
     ]
    },
    {
     "data": {
      "text/plain": [
       "0.9611111111111111"
      ]
     },
     "execution_count": 89,
     "metadata": {},
     "output_type": "execute_result"
    }
   ],
   "source": [
    "lr = LogisticRegression()\n",
    "lr.fit(X_train, y_train)\n",
    "lr.score(X_test, y_test)"
   ]
  },
  {
   "cell_type": "markdown",
   "metadata": {},
   "source": [
    "**K-Fold CV**"
   ]
  },
  {
   "cell_type": "code",
   "execution_count": 94,
   "metadata": {},
   "outputs": [
    {
     "data": {
      "text/plain": [
       "KFold(n_splits=5, random_state=None, shuffle=False)"
      ]
     },
     "execution_count": 94,
     "metadata": {},
     "output_type": "execute_result"
    }
   ],
   "source": [
    "from sklearn.model_selection import KFold\n",
    "kf = KFold(n_splits=5)\n",
    "kf"
   ]
  },
  {
   "cell_type": "code",
   "execution_count": 95,
   "metadata": {},
   "outputs": [
    {
     "name": "stdout",
     "output_type": "stream",
     "text": [
      "[2 3 4 5 6 7 8 9] [0 1]\n",
      "[0 1 4 5 6 7 8 9] [2 3]\n",
      "[0 1 2 3 6 7 8 9] [4 5]\n",
      "[0 1 2 3 4 5 8 9] [6 7]\n",
      "[0 1 2 3 4 5 6 7] [8 9]\n"
     ]
    }
   ],
   "source": [
    "# Representación visual\n",
    "for train_index, test_index in kf.split([1,2,3,4,5,6,7,8,9,10]):\n",
    "    print(train_index, test_index)"
   ]
  },
  {
   "cell_type": "code",
   "execution_count": 105,
   "metadata": {},
   "outputs": [],
   "source": [
    "# Corrida de modelo simple\n",
    "def get_score(model, X_train, X_test, y_train, y_test):\n",
    "    model.fit(X_train, y_train)\n",
    "    return model.score(X_test, y_test)"
   ]
  },
  {
   "cell_type": "code",
   "execution_count": 99,
   "metadata": {},
   "outputs": [
    {
     "name": "stderr",
     "output_type": "stream",
     "text": [
      "/Users/jpolanco/opt/anaconda3/lib/python3.9/site-packages/sklearn/linear_model/_logistic.py:444: ConvergenceWarning: lbfgs failed to converge (status=1):\n",
      "STOP: TOTAL NO. of ITERATIONS REACHED LIMIT.\n",
      "\n",
      "Increase the number of iterations (max_iter) or scale the data as shown in:\n",
      "    https://scikit-learn.org/stable/modules/preprocessing.html\n",
      "Please also refer to the documentation for alternative solver options:\n",
      "    https://scikit-learn.org/stable/modules/linear_model.html#logistic-regression\n",
      "  n_iter_i = _check_optimize_result(\n"
     ]
    },
    {
     "data": {
      "text/plain": [
       "0.9611111111111111"
      ]
     },
     "execution_count": 99,
     "metadata": {},
     "output_type": "execute_result"
    }
   ],
   "source": [
    "get_score(LogisticRegression(), X_train, X_test, y_train, y_test)"
   ]
  },
  {
   "cell_type": "code",
   "execution_count": 101,
   "metadata": {},
   "outputs": [],
   "source": [
    "# Stratified kFold\n",
    "from sklearn.model_selection import StratifiedKFold\n",
    "folds = StratifiedKFold(n_splits=5)"
   ]
  },
  {
   "cell_type": "code",
   "execution_count": 117,
   "metadata": {},
   "outputs": [
    {
     "name": "stderr",
     "output_type": "stream",
     "text": [
      "/Users/jpolanco/opt/anaconda3/lib/python3.9/site-packages/sklearn/linear_model/_logistic.py:444: ConvergenceWarning: lbfgs failed to converge (status=1):\n",
      "STOP: TOTAL NO. of ITERATIONS REACHED LIMIT.\n",
      "\n",
      "Increase the number of iterations (max_iter) or scale the data as shown in:\n",
      "    https://scikit-learn.org/stable/modules/preprocessing.html\n",
      "Please also refer to the documentation for alternative solver options:\n",
      "    https://scikit-learn.org/stable/modules/linear_model.html#logistic-regression\n",
      "  n_iter_i = _check_optimize_result(\n",
      "/Users/jpolanco/opt/anaconda3/lib/python3.9/site-packages/sklearn/linear_model/_logistic.py:444: ConvergenceWarning: lbfgs failed to converge (status=1):\n",
      "STOP: TOTAL NO. of ITERATIONS REACHED LIMIT.\n",
      "\n",
      "Increase the number of iterations (max_iter) or scale the data as shown in:\n",
      "    https://scikit-learn.org/stable/modules/preprocessing.html\n",
      "Please also refer to the documentation for alternative solver options:\n",
      "    https://scikit-learn.org/stable/modules/linear_model.html#logistic-regression\n",
      "  n_iter_i = _check_optimize_result(\n",
      "/Users/jpolanco/opt/anaconda3/lib/python3.9/site-packages/sklearn/linear_model/_logistic.py:444: ConvergenceWarning: lbfgs failed to converge (status=1):\n",
      "STOP: TOTAL NO. of ITERATIONS REACHED LIMIT.\n",
      "\n",
      "Increase the number of iterations (max_iter) or scale the data as shown in:\n",
      "    https://scikit-learn.org/stable/modules/preprocessing.html\n",
      "Please also refer to the documentation for alternative solver options:\n",
      "    https://scikit-learn.org/stable/modules/linear_model.html#logistic-regression\n",
      "  n_iter_i = _check_optimize_result(\n",
      "/Users/jpolanco/opt/anaconda3/lib/python3.9/site-packages/sklearn/linear_model/_logistic.py:444: ConvergenceWarning: lbfgs failed to converge (status=1):\n",
      "STOP: TOTAL NO. of ITERATIONS REACHED LIMIT.\n",
      "\n",
      "Increase the number of iterations (max_iter) or scale the data as shown in:\n",
      "    https://scikit-learn.org/stable/modules/preprocessing.html\n",
      "Please also refer to the documentation for alternative solver options:\n",
      "    https://scikit-learn.org/stable/modules/linear_model.html#logistic-regression\n",
      "  n_iter_i = _check_optimize_result(\n",
      "/Users/jpolanco/opt/anaconda3/lib/python3.9/site-packages/sklearn/linear_model/_logistic.py:444: ConvergenceWarning: lbfgs failed to converge (status=1):\n",
      "STOP: TOTAL NO. of ITERATIONS REACHED LIMIT.\n",
      "\n",
      "Increase the number of iterations (max_iter) or scale the data as shown in:\n",
      "    https://scikit-learn.org/stable/modules/preprocessing.html\n",
      "Please also refer to the documentation for alternative solver options:\n",
      "    https://scikit-learn.org/stable/modules/linear_model.html#logistic-regression\n",
      "  n_iter_i = _check_optimize_result(\n"
     ]
    }
   ],
   "source": [
    "scores_lr = []\n",
    "scores_rf = []\n",
    "\n",
    "for train_index, test_index in kf.split(digits.data):\n",
    "    X_train, X_test, y_train, y_test = digits.data[train_index], \\\n",
    "                                        digits.data[test_index], \\\n",
    "                                        digits.target[train_index], \\\n",
    "                                        digits.target[test_index]\n",
    "    \n",
    "    scores_lr.append(get_score(LogisticRegression(), X_train, X_test, y_train, y_test))\n",
    "    scores_rf.append(get_score(RandomForestClassifier(), X_train, X_test, y_train, y_test))"
   ]
  },
  {
   "cell_type": "code",
   "execution_count": 122,
   "metadata": {},
   "outputs": [
    {
     "name": "stdout",
     "output_type": "stream",
     "text": [
      "scores_lr:  [0.9277777777777778, 0.8666666666666667, 0.9387186629526463, 0.935933147632312, 0.9080779944289693]\n",
      "AVG:  0.9154348498916743\n"
     ]
    }
   ],
   "source": [
    "print(\"scores_lr: \", scores_lr)\n",
    "print(\"AVG: \", np.mean(scores_lr))"
   ]
  },
  {
   "cell_type": "code",
   "execution_count": 123,
   "metadata": {},
   "outputs": [
    {
     "name": "stdout",
     "output_type": "stream",
     "text": [
      "scores_rf [0.9305555555555556, 0.9194444444444444, 0.9637883008356546, 0.9637883008356546, 0.9275766016713092]\n",
      "AVG:  0.9410306406685237\n"
     ]
    }
   ],
   "source": [
    "print(\"scores_rf\", scores_rf)\n",
    "print(\"AVG: \", np.mean(scores_rf))"
   ]
  },
  {
   "cell_type": "markdown",
   "metadata": {},
   "source": [
    "**Lo mismo, pero usando la versión de sklearn**"
   ]
  },
  {
   "cell_type": "code",
   "execution_count": 125,
   "metadata": {},
   "outputs": [],
   "source": [
    "from sklearn.model_selection import cross_val_score"
   ]
  },
  {
   "cell_type": "code",
   "execution_count": 126,
   "metadata": {},
   "outputs": [
    {
     "name": "stderr",
     "output_type": "stream",
     "text": [
      "/Users/jpolanco/opt/anaconda3/lib/python3.9/site-packages/sklearn/linear_model/_logistic.py:444: ConvergenceWarning: lbfgs failed to converge (status=1):\n",
      "STOP: TOTAL NO. of ITERATIONS REACHED LIMIT.\n",
      "\n",
      "Increase the number of iterations (max_iter) or scale the data as shown in:\n",
      "    https://scikit-learn.org/stable/modules/preprocessing.html\n",
      "Please also refer to the documentation for alternative solver options:\n",
      "    https://scikit-learn.org/stable/modules/linear_model.html#logistic-regression\n",
      "  n_iter_i = _check_optimize_result(\n",
      "/Users/jpolanco/opt/anaconda3/lib/python3.9/site-packages/sklearn/linear_model/_logistic.py:444: ConvergenceWarning: lbfgs failed to converge (status=1):\n",
      "STOP: TOTAL NO. of ITERATIONS REACHED LIMIT.\n",
      "\n",
      "Increase the number of iterations (max_iter) or scale the data as shown in:\n",
      "    https://scikit-learn.org/stable/modules/preprocessing.html\n",
      "Please also refer to the documentation for alternative solver options:\n",
      "    https://scikit-learn.org/stable/modules/linear_model.html#logistic-regression\n",
      "  n_iter_i = _check_optimize_result(\n",
      "/Users/jpolanco/opt/anaconda3/lib/python3.9/site-packages/sklearn/linear_model/_logistic.py:444: ConvergenceWarning: lbfgs failed to converge (status=1):\n",
      "STOP: TOTAL NO. of ITERATIONS REACHED LIMIT.\n",
      "\n",
      "Increase the number of iterations (max_iter) or scale the data as shown in:\n",
      "    https://scikit-learn.org/stable/modules/preprocessing.html\n",
      "Please also refer to the documentation for alternative solver options:\n",
      "    https://scikit-learn.org/stable/modules/linear_model.html#logistic-regression\n",
      "  n_iter_i = _check_optimize_result(\n",
      "/Users/jpolanco/opt/anaconda3/lib/python3.9/site-packages/sklearn/linear_model/_logistic.py:444: ConvergenceWarning: lbfgs failed to converge (status=1):\n",
      "STOP: TOTAL NO. of ITERATIONS REACHED LIMIT.\n",
      "\n",
      "Increase the number of iterations (max_iter) or scale the data as shown in:\n",
      "    https://scikit-learn.org/stable/modules/preprocessing.html\n",
      "Please also refer to the documentation for alternative solver options:\n",
      "    https://scikit-learn.org/stable/modules/linear_model.html#logistic-regression\n",
      "  n_iter_i = _check_optimize_result(\n",
      "/Users/jpolanco/opt/anaconda3/lib/python3.9/site-packages/sklearn/linear_model/_logistic.py:444: ConvergenceWarning: lbfgs failed to converge (status=1):\n",
      "STOP: TOTAL NO. of ITERATIONS REACHED LIMIT.\n",
      "\n",
      "Increase the number of iterations (max_iter) or scale the data as shown in:\n",
      "    https://scikit-learn.org/stable/modules/preprocessing.html\n",
      "Please also refer to the documentation for alternative solver options:\n",
      "    https://scikit-learn.org/stable/modules/linear_model.html#logistic-regression\n",
      "  n_iter_i = _check_optimize_result(\n"
     ]
    },
    {
     "data": {
      "text/plain": [
       "array([0.92222222, 0.86944444, 0.94150418, 0.93871866, 0.89693593])"
      ]
     },
     "execution_count": 126,
     "metadata": {},
     "output_type": "execute_result"
    }
   ],
   "source": [
    "cross_val_score(LogisticRegression(), digits.data, digits.target)"
   ]
  },
  {
   "cell_type": "code",
   "execution_count": 137,
   "metadata": {},
   "outputs": [
    {
     "name": "stdout",
     "output_type": "stream",
     "text": [
      "RF #1:  0.8436737852058187\n",
      "RF #2:  0.7930269266480966\n"
     ]
    }
   ],
   "source": [
    "# Comparando diferentes parámetros\n",
    "print(\"RF #1: \", cross_val_score(RandomForestClassifier(n_estimators=5), digits.data, digits.target).mean())\n",
    "print(\"RF #2: \", cross_val_score(RandomForestClassifier(n_estimators=3), digits.data, digits.target).mean())"
   ]
  },
  {
   "cell_type": "code",
   "execution_count": null,
   "metadata": {},
   "outputs": [],
   "source": []
  },
  {
   "cell_type": "code",
   "execution_count": null,
   "metadata": {},
   "outputs": [],
   "source": []
  },
  {
   "cell_type": "code",
   "execution_count": null,
   "metadata": {},
   "outputs": [],
   "source": []
  },
  {
   "cell_type": "code",
   "execution_count": null,
   "metadata": {},
   "outputs": [],
   "source": []
  },
  {
   "cell_type": "code",
   "execution_count": null,
   "metadata": {},
   "outputs": [],
   "source": []
  },
  {
   "cell_type": "code",
   "execution_count": null,
   "metadata": {},
   "outputs": [],
   "source": []
  },
  {
   "cell_type": "code",
   "execution_count": null,
   "metadata": {},
   "outputs": [],
   "source": []
  }
 ],
 "metadata": {
  "colab": {
   "provenance": []
  },
  "kernelspec": {
   "display_name": "Python 3 (ipykernel)",
   "language": "python",
   "name": "python3"
  },
  "language_info": {
   "codemirror_mode": {
    "name": "ipython",
    "version": 3
   },
   "file_extension": ".py",
   "mimetype": "text/x-python",
   "name": "python",
   "nbconvert_exporter": "python",
   "pygments_lexer": "ipython3",
   "version": "3.9.12"
  }
 },
 "nbformat": 4,
 "nbformat_minor": 1
}
