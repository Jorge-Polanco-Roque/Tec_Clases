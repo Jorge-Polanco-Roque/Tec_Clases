{
 "cells": [
  {
   "cell_type": "markdown",
   "id": "635b876a",
   "metadata": {},
   "source": [
    "# Módulo #1 - Estadística"
   ]
  },
  {
   "cell_type": "markdown",
   "id": "9224858a",
   "metadata": {},
   "source": [
    "**Fecha**: 0922"
   ]
  },
  {
   "cell_type": "markdown",
   "id": "f04970e3",
   "metadata": {},
   "source": [
    "### 1) Exploratory Data Analysis - Base de Vinos 🍷"
   ]
  },
  {
   "cell_type": "code",
   "execution_count": 1,
   "id": "4b868864",
   "metadata": {},
   "outputs": [
    {
     "name": "stderr",
     "output_type": "stream",
     "text": [
      "<frozen importlib._bootstrap>:228: RuntimeWarning: scipy._lib.messagestream.MessageStream size changed, may indicate binary incompatibility. Expected 56 from C header, got 64 from PyObject\n"
     ]
    }
   ],
   "source": [
    "# Importando librerías\n",
    "from matplotlib import pyplot as plt\n",
    "import seaborn as sns\n",
    "import pandas as pd\n",
    "import numpy as np\n",
    "import warnings"
   ]
  },
  {
   "cell_type": "code",
   "execution_count": 2,
   "id": "675cdfe5",
   "metadata": {},
   "outputs": [],
   "source": [
    "warnings.filterwarnings(\"ignore\")"
   ]
  },
  {
   "cell_type": "markdown",
   "id": "b8b80ab5",
   "metadata": {},
   "source": [
    "**Importando una base de datos**"
   ]
  },
  {
   "cell_type": "code",
   "execution_count": 3,
   "id": "031638ae",
   "metadata": {},
   "outputs": [
    {
     "data": {
      "text/html": [
       "<div>\n",
       "<style scoped>\n",
       "    .dataframe tbody tr th:only-of-type {\n",
       "        vertical-align: middle;\n",
       "    }\n",
       "\n",
       "    .dataframe tbody tr th {\n",
       "        vertical-align: top;\n",
       "    }\n",
       "\n",
       "    .dataframe thead th {\n",
       "        text-align: right;\n",
       "    }\n",
       "</style>\n",
       "<table border=\"1\" class=\"dataframe\">\n",
       "  <thead>\n",
       "    <tr style=\"text-align: right;\">\n",
       "      <th></th>\n",
       "      <th>type</th>\n",
       "      <th>fixed acidity</th>\n",
       "      <th>volatile acidity</th>\n",
       "      <th>citric acid</th>\n",
       "      <th>residual sugar</th>\n",
       "      <th>chlorides</th>\n",
       "      <th>free sulfur dioxide</th>\n",
       "      <th>total sulfur dioxide</th>\n",
       "      <th>density</th>\n",
       "      <th>pH</th>\n",
       "      <th>sulphates</th>\n",
       "      <th>alcohol</th>\n",
       "      <th>quality</th>\n",
       "    </tr>\n",
       "  </thead>\n",
       "  <tbody>\n",
       "    <tr>\n",
       "      <th>0</th>\n",
       "      <td>white</td>\n",
       "      <td>7.0</td>\n",
       "      <td>0.27</td>\n",
       "      <td>0.36</td>\n",
       "      <td>20.7</td>\n",
       "      <td>0.045</td>\n",
       "      <td>45.0</td>\n",
       "      <td>170.0</td>\n",
       "      <td>1.0010</td>\n",
       "      <td>3.00</td>\n",
       "      <td>0.45</td>\n",
       "      <td>8.8</td>\n",
       "      <td>6</td>\n",
       "    </tr>\n",
       "    <tr>\n",
       "      <th>1</th>\n",
       "      <td>white</td>\n",
       "      <td>6.3</td>\n",
       "      <td>0.30</td>\n",
       "      <td>0.34</td>\n",
       "      <td>1.6</td>\n",
       "      <td>0.049</td>\n",
       "      <td>14.0</td>\n",
       "      <td>132.0</td>\n",
       "      <td>0.9940</td>\n",
       "      <td>3.30</td>\n",
       "      <td>0.49</td>\n",
       "      <td>9.5</td>\n",
       "      <td>6</td>\n",
       "    </tr>\n",
       "    <tr>\n",
       "      <th>2</th>\n",
       "      <td>white</td>\n",
       "      <td>8.1</td>\n",
       "      <td>0.28</td>\n",
       "      <td>0.40</td>\n",
       "      <td>6.9</td>\n",
       "      <td>0.050</td>\n",
       "      <td>30.0</td>\n",
       "      <td>97.0</td>\n",
       "      <td>0.9951</td>\n",
       "      <td>3.26</td>\n",
       "      <td>0.44</td>\n",
       "      <td>10.1</td>\n",
       "      <td>6</td>\n",
       "    </tr>\n",
       "    <tr>\n",
       "      <th>3</th>\n",
       "      <td>white</td>\n",
       "      <td>7.2</td>\n",
       "      <td>0.23</td>\n",
       "      <td>0.32</td>\n",
       "      <td>8.5</td>\n",
       "      <td>0.058</td>\n",
       "      <td>47.0</td>\n",
       "      <td>186.0</td>\n",
       "      <td>0.9956</td>\n",
       "      <td>3.19</td>\n",
       "      <td>0.40</td>\n",
       "      <td>9.9</td>\n",
       "      <td>6</td>\n",
       "    </tr>\n",
       "    <tr>\n",
       "      <th>4</th>\n",
       "      <td>white</td>\n",
       "      <td>7.2</td>\n",
       "      <td>0.23</td>\n",
       "      <td>0.32</td>\n",
       "      <td>8.5</td>\n",
       "      <td>0.058</td>\n",
       "      <td>47.0</td>\n",
       "      <td>186.0</td>\n",
       "      <td>0.9956</td>\n",
       "      <td>3.19</td>\n",
       "      <td>0.40</td>\n",
       "      <td>9.9</td>\n",
       "      <td>6</td>\n",
       "    </tr>\n",
       "  </tbody>\n",
       "</table>\n",
       "</div>"
      ],
      "text/plain": [
       "    type  fixed acidity  volatile acidity  citric acid  residual sugar  \\\n",
       "0  white            7.0              0.27         0.36            20.7   \n",
       "1  white            6.3              0.30         0.34             1.6   \n",
       "2  white            8.1              0.28         0.40             6.9   \n",
       "3  white            7.2              0.23         0.32             8.5   \n",
       "4  white            7.2              0.23         0.32             8.5   \n",
       "\n",
       "   chlorides  free sulfur dioxide  total sulfur dioxide  density    pH  \\\n",
       "0      0.045                 45.0                 170.0   1.0010  3.00   \n",
       "1      0.049                 14.0                 132.0   0.9940  3.30   \n",
       "2      0.050                 30.0                  97.0   0.9951  3.26   \n",
       "3      0.058                 47.0                 186.0   0.9956  3.19   \n",
       "4      0.058                 47.0                 186.0   0.9956  3.19   \n",
       "\n",
       "   sulphates  alcohol  quality  \n",
       "0       0.45      8.8        6  \n",
       "1       0.49      9.5        6  \n",
       "2       0.44     10.1        6  \n",
       "3       0.40      9.9        6  \n",
       "4       0.40      9.9        6  "
      ]
     },
     "execution_count": 3,
     "metadata": {},
     "output_type": "execute_result"
    }
   ],
   "source": [
    "# Descargando la base de datos\n",
    "file_name = \"https://raw.githubusercontent.com/rajeevratan84/datascienceforbusiness/master/winequalityN.csv\"\n",
    "df = pd.read_csv(file_name)\n",
    "df.head()"
   ]
  },
  {
   "cell_type": "markdown",
   "id": "f95bbbfa",
   "metadata": {},
   "source": [
    "**Explorando la base de datos**"
   ]
  },
  {
   "cell_type": "code",
   "execution_count": 4,
   "id": "9c851cae",
   "metadata": {},
   "outputs": [
    {
     "name": "stdout",
     "output_type": "stream",
     "text": [
      "<class 'pandas.core.frame.DataFrame'>\n",
      "RangeIndex: 6497 entries, 0 to 6496\n",
      "Data columns (total 13 columns):\n",
      " #   Column                Non-Null Count  Dtype  \n",
      "---  ------                --------------  -----  \n",
      " 0   type                  6497 non-null   object \n",
      " 1   fixed acidity         6487 non-null   float64\n",
      " 2   volatile acidity      6489 non-null   float64\n",
      " 3   citric acid           6494 non-null   float64\n",
      " 4   residual sugar        6495 non-null   float64\n",
      " 5   chlorides             6495 non-null   float64\n",
      " 6   free sulfur dioxide   6497 non-null   float64\n",
      " 7   total sulfur dioxide  6497 non-null   float64\n",
      " 8   density               6497 non-null   float64\n",
      " 9   pH                    6488 non-null   float64\n",
      " 10  sulphates             6493 non-null   float64\n",
      " 11  alcohol               6497 non-null   float64\n",
      " 12  quality               6497 non-null   int64  \n",
      "dtypes: float64(11), int64(1), object(1)\n",
      "memory usage: 660.0+ KB\n"
     ]
    }
   ],
   "source": [
    "# Explorando características de la base de datos\n",
    "df.info()"
   ]
  },
  {
   "cell_type": "code",
   "execution_count": 5,
   "id": "341f713a",
   "metadata": {},
   "outputs": [
    {
     "data": {
      "text/html": [
       "<div>\n",
       "<style scoped>\n",
       "    .dataframe tbody tr th:only-of-type {\n",
       "        vertical-align: middle;\n",
       "    }\n",
       "\n",
       "    .dataframe tbody tr th {\n",
       "        vertical-align: top;\n",
       "    }\n",
       "\n",
       "    .dataframe thead th {\n",
       "        text-align: right;\n",
       "    }\n",
       "</style>\n",
       "<table border=\"1\" class=\"dataframe\">\n",
       "  <thead>\n",
       "    <tr style=\"text-align: right;\">\n",
       "      <th></th>\n",
       "      <th>type</th>\n",
       "      <th>fixed acidity</th>\n",
       "      <th>volatile acidity</th>\n",
       "      <th>citric acid</th>\n",
       "      <th>residual sugar</th>\n",
       "      <th>chlorides</th>\n",
       "      <th>free sulfur dioxide</th>\n",
       "      <th>total sulfur dioxide</th>\n",
       "      <th>density</th>\n",
       "      <th>pH</th>\n",
       "      <th>sulphates</th>\n",
       "      <th>alcohol</th>\n",
       "      <th>quality</th>\n",
       "    </tr>\n",
       "  </thead>\n",
       "  <tbody>\n",
       "    <tr>\n",
       "      <th>17</th>\n",
       "      <td>white</td>\n",
       "      <td>NaN</td>\n",
       "      <td>0.66</td>\n",
       "      <td>0.48</td>\n",
       "      <td>1.2</td>\n",
       "      <td>0.029</td>\n",
       "      <td>29.0</td>\n",
       "      <td>75.0</td>\n",
       "      <td>0.9892</td>\n",
       "      <td>3.33</td>\n",
       "      <td>0.39</td>\n",
       "      <td>12.8</td>\n",
       "      <td>8</td>\n",
       "    </tr>\n",
       "    <tr>\n",
       "      <th>174</th>\n",
       "      <td>white</td>\n",
       "      <td>NaN</td>\n",
       "      <td>0.27</td>\n",
       "      <td>0.31</td>\n",
       "      <td>17.7</td>\n",
       "      <td>0.051</td>\n",
       "      <td>33.0</td>\n",
       "      <td>173.0</td>\n",
       "      <td>0.9990</td>\n",
       "      <td>3.09</td>\n",
       "      <td>0.64</td>\n",
       "      <td>10.2</td>\n",
       "      <td>5</td>\n",
       "    </tr>\n",
       "    <tr>\n",
       "      <th>249</th>\n",
       "      <td>white</td>\n",
       "      <td>NaN</td>\n",
       "      <td>0.41</td>\n",
       "      <td>0.14</td>\n",
       "      <td>10.4</td>\n",
       "      <td>0.037</td>\n",
       "      <td>18.0</td>\n",
       "      <td>119.0</td>\n",
       "      <td>0.9960</td>\n",
       "      <td>3.38</td>\n",
       "      <td>0.45</td>\n",
       "      <td>10.0</td>\n",
       "      <td>5</td>\n",
       "    </tr>\n",
       "  </tbody>\n",
       "</table>\n",
       "</div>"
      ],
      "text/plain": [
       "      type  fixed acidity  volatile acidity  citric acid  residual sugar  \\\n",
       "17   white            NaN              0.66         0.48             1.2   \n",
       "174  white            NaN              0.27         0.31            17.7   \n",
       "249  white            NaN              0.41         0.14            10.4   \n",
       "\n",
       "     chlorides  free sulfur dioxide  total sulfur dioxide  density    pH  \\\n",
       "17       0.029                 29.0                  75.0   0.9892  3.33   \n",
       "174      0.051                 33.0                 173.0   0.9990  3.09   \n",
       "249      0.037                 18.0                 119.0   0.9960  3.38   \n",
       "\n",
       "     sulphates  alcohol  quality  \n",
       "17        0.39     12.8        8  \n",
       "174       0.64     10.2        5  \n",
       "249       0.45     10.0        5  "
      ]
     },
     "execution_count": 5,
     "metadata": {},
     "output_type": "execute_result"
    }
   ],
   "source": [
    "# Ejemplos de observaciones sin valor en 'fixed acidity'\n",
    "df[df['fixed acidity'].isna()].head(3)"
   ]
  },
  {
   "cell_type": "code",
   "execution_count": 6,
   "id": "4eda8170",
   "metadata": {},
   "outputs": [
    {
     "name": "stdout",
     "output_type": "stream",
     "text": [
      "<class 'pandas.core.frame.DataFrame'>\n",
      "Int64Index: 6463 entries, 0 to 6496\n",
      "Data columns (total 13 columns):\n",
      " #   Column                Non-Null Count  Dtype  \n",
      "---  ------                --------------  -----  \n",
      " 0   type                  6463 non-null   object \n",
      " 1   fixed acidity         6463 non-null   float64\n",
      " 2   volatile acidity      6463 non-null   float64\n",
      " 3   citric acid           6463 non-null   float64\n",
      " 4   residual sugar        6463 non-null   float64\n",
      " 5   chlorides             6463 non-null   float64\n",
      " 6   free sulfur dioxide   6463 non-null   float64\n",
      " 7   total sulfur dioxide  6463 non-null   float64\n",
      " 8   density               6463 non-null   float64\n",
      " 9   pH                    6463 non-null   float64\n",
      " 10  sulphates             6463 non-null   float64\n",
      " 11  alcohol               6463 non-null   float64\n",
      " 12  quality               6463 non-null   int64  \n",
      "dtypes: float64(11), int64(1), object(1)\n",
      "memory usage: 706.9+ KB\n"
     ]
    }
   ],
   "source": [
    "# Nos quedamos con observaciones con las métricas completas\n",
    "df = df.dropna(axis=0)\n",
    "df.info()"
   ]
  },
  {
   "cell_type": "code",
   "execution_count": 7,
   "id": "409aa97d",
   "metadata": {},
   "outputs": [
    {
     "name": "stdout",
     "output_type": "stream",
     "text": [
      "valores únicos: ['white' 'red']\n",
      "valores únicos: 2\n"
     ]
    }
   ],
   "source": [
    "# Valores únicos\n",
    "print('valores únicos:', df['type'].unique())\n",
    "print('valores únicos:', df['type'].nunique())"
   ]
  },
  {
   "cell_type": "code",
   "execution_count": 8,
   "id": "a178b327",
   "metadata": {},
   "outputs": [
    {
     "data": {
      "text/html": [
       "<div>\n",
       "<style scoped>\n",
       "    .dataframe tbody tr th:only-of-type {\n",
       "        vertical-align: middle;\n",
       "    }\n",
       "\n",
       "    .dataframe tbody tr th {\n",
       "        vertical-align: top;\n",
       "    }\n",
       "\n",
       "    .dataframe thead th {\n",
       "        text-align: right;\n",
       "    }\n",
       "</style>\n",
       "<table border=\"1\" class=\"dataframe\">\n",
       "  <thead>\n",
       "    <tr style=\"text-align: right;\">\n",
       "      <th></th>\n",
       "      <th>fixed acidity</th>\n",
       "      <th>volatile acidity</th>\n",
       "      <th>citric acid</th>\n",
       "      <th>residual sugar</th>\n",
       "      <th>chlorides</th>\n",
       "      <th>free sulfur dioxide</th>\n",
       "      <th>total sulfur dioxide</th>\n",
       "      <th>density</th>\n",
       "      <th>pH</th>\n",
       "      <th>sulphates</th>\n",
       "      <th>alcohol</th>\n",
       "      <th>quality</th>\n",
       "    </tr>\n",
       "  </thead>\n",
       "  <tbody>\n",
       "    <tr>\n",
       "      <th>0</th>\n",
       "      <td>7.0</td>\n",
       "      <td>0.27</td>\n",
       "      <td>0.36</td>\n",
       "      <td>20.7</td>\n",
       "      <td>0.045</td>\n",
       "      <td>45.0</td>\n",
       "      <td>170.0</td>\n",
       "      <td>1.0010</td>\n",
       "      <td>3.00</td>\n",
       "      <td>0.45</td>\n",
       "      <td>8.8</td>\n",
       "      <td>6</td>\n",
       "    </tr>\n",
       "    <tr>\n",
       "      <th>1</th>\n",
       "      <td>6.3</td>\n",
       "      <td>0.30</td>\n",
       "      <td>0.34</td>\n",
       "      <td>1.6</td>\n",
       "      <td>0.049</td>\n",
       "      <td>14.0</td>\n",
       "      <td>132.0</td>\n",
       "      <td>0.9940</td>\n",
       "      <td>3.30</td>\n",
       "      <td>0.49</td>\n",
       "      <td>9.5</td>\n",
       "      <td>6</td>\n",
       "    </tr>\n",
       "    <tr>\n",
       "      <th>2</th>\n",
       "      <td>8.1</td>\n",
       "      <td>0.28</td>\n",
       "      <td>0.40</td>\n",
       "      <td>6.9</td>\n",
       "      <td>0.050</td>\n",
       "      <td>30.0</td>\n",
       "      <td>97.0</td>\n",
       "      <td>0.9951</td>\n",
       "      <td>3.26</td>\n",
       "      <td>0.44</td>\n",
       "      <td>10.1</td>\n",
       "      <td>6</td>\n",
       "    </tr>\n",
       "    <tr>\n",
       "      <th>3</th>\n",
       "      <td>7.2</td>\n",
       "      <td>0.23</td>\n",
       "      <td>0.32</td>\n",
       "      <td>8.5</td>\n",
       "      <td>0.058</td>\n",
       "      <td>47.0</td>\n",
       "      <td>186.0</td>\n",
       "      <td>0.9956</td>\n",
       "      <td>3.19</td>\n",
       "      <td>0.40</td>\n",
       "      <td>9.9</td>\n",
       "      <td>6</td>\n",
       "    </tr>\n",
       "    <tr>\n",
       "      <th>4</th>\n",
       "      <td>7.2</td>\n",
       "      <td>0.23</td>\n",
       "      <td>0.32</td>\n",
       "      <td>8.5</td>\n",
       "      <td>0.058</td>\n",
       "      <td>47.0</td>\n",
       "      <td>186.0</td>\n",
       "      <td>0.9956</td>\n",
       "      <td>3.19</td>\n",
       "      <td>0.40</td>\n",
       "      <td>9.9</td>\n",
       "      <td>6</td>\n",
       "    </tr>\n",
       "  </tbody>\n",
       "</table>\n",
       "</div>"
      ],
      "text/plain": [
       "   fixed acidity  volatile acidity  citric acid  residual sugar  chlorides  \\\n",
       "0            7.0              0.27         0.36            20.7      0.045   \n",
       "1            6.3              0.30         0.34             1.6      0.049   \n",
       "2            8.1              0.28         0.40             6.9      0.050   \n",
       "3            7.2              0.23         0.32             8.5      0.058   \n",
       "4            7.2              0.23         0.32             8.5      0.058   \n",
       "\n",
       "   free sulfur dioxide  total sulfur dioxide  density    pH  sulphates  \\\n",
       "0                 45.0                 170.0   1.0010  3.00       0.45   \n",
       "1                 14.0                 132.0   0.9940  3.30       0.49   \n",
       "2                 30.0                  97.0   0.9951  3.26       0.44   \n",
       "3                 47.0                 186.0   0.9956  3.19       0.40   \n",
       "4                 47.0                 186.0   0.9956  3.19       0.40   \n",
       "\n",
       "   alcohol  quality  \n",
       "0      8.8        6  \n",
       "1      9.5        6  \n",
       "2     10.1        6  \n",
       "3      9.9        6  \n",
       "4      9.9        6  "
      ]
     },
     "execution_count": 8,
     "metadata": {},
     "output_type": "execute_result"
    }
   ],
   "source": [
    "df.select_dtypes(include=np.number).head()"
   ]
  },
  {
   "cell_type": "markdown",
   "id": "eb6c6a68",
   "metadata": {},
   "source": [
    "**Descripción estadística**"
   ]
  },
  {
   "cell_type": "code",
   "execution_count": 9,
   "id": "ea50f271",
   "metadata": {},
   "outputs": [
    {
     "data": {
      "text/html": [
       "<div>\n",
       "<style scoped>\n",
       "    .dataframe tbody tr th:only-of-type {\n",
       "        vertical-align: middle;\n",
       "    }\n",
       "\n",
       "    .dataframe tbody tr th {\n",
       "        vertical-align: top;\n",
       "    }\n",
       "\n",
       "    .dataframe thead th {\n",
       "        text-align: right;\n",
       "    }\n",
       "</style>\n",
       "<table border=\"1\" class=\"dataframe\">\n",
       "  <thead>\n",
       "    <tr style=\"text-align: right;\">\n",
       "      <th></th>\n",
       "      <th>fixed acidity</th>\n",
       "      <th>volatile acidity</th>\n",
       "      <th>citric acid</th>\n",
       "      <th>residual sugar</th>\n",
       "      <th>chlorides</th>\n",
       "      <th>free sulfur dioxide</th>\n",
       "      <th>total sulfur dioxide</th>\n",
       "      <th>density</th>\n",
       "      <th>pH</th>\n",
       "      <th>sulphates</th>\n",
       "      <th>alcohol</th>\n",
       "      <th>quality</th>\n",
       "    </tr>\n",
       "  </thead>\n",
       "  <tbody>\n",
       "    <tr>\n",
       "      <th>count</th>\n",
       "      <td>6463.000000</td>\n",
       "      <td>6463.000000</td>\n",
       "      <td>6463.000000</td>\n",
       "      <td>6463.000000</td>\n",
       "      <td>6463.000000</td>\n",
       "      <td>6463.000000</td>\n",
       "      <td>6463.000000</td>\n",
       "      <td>6463.000000</td>\n",
       "      <td>6463.000000</td>\n",
       "      <td>6463.000000</td>\n",
       "      <td>6463.000000</td>\n",
       "      <td>6463.000000</td>\n",
       "    </tr>\n",
       "    <tr>\n",
       "      <th>mean</th>\n",
       "      <td>7.217755</td>\n",
       "      <td>0.339589</td>\n",
       "      <td>0.318758</td>\n",
       "      <td>5.443958</td>\n",
       "      <td>0.056056</td>\n",
       "      <td>30.516865</td>\n",
       "      <td>115.694492</td>\n",
       "      <td>0.994698</td>\n",
       "      <td>3.218332</td>\n",
       "      <td>0.531150</td>\n",
       "      <td>10.492825</td>\n",
       "      <td>5.818505</td>\n",
       "    </tr>\n",
       "    <tr>\n",
       "      <th>std</th>\n",
       "      <td>1.297913</td>\n",
       "      <td>0.164639</td>\n",
       "      <td>0.145252</td>\n",
       "      <td>4.756852</td>\n",
       "      <td>0.035076</td>\n",
       "      <td>17.758815</td>\n",
       "      <td>56.526736</td>\n",
       "      <td>0.003001</td>\n",
       "      <td>0.160650</td>\n",
       "      <td>0.148913</td>\n",
       "      <td>1.193128</td>\n",
       "      <td>0.873286</td>\n",
       "    </tr>\n",
       "    <tr>\n",
       "      <th>min</th>\n",
       "      <td>3.800000</td>\n",
       "      <td>0.080000</td>\n",
       "      <td>0.000000</td>\n",
       "      <td>0.600000</td>\n",
       "      <td>0.009000</td>\n",
       "      <td>1.000000</td>\n",
       "      <td>6.000000</td>\n",
       "      <td>0.987110</td>\n",
       "      <td>2.720000</td>\n",
       "      <td>0.220000</td>\n",
       "      <td>8.000000</td>\n",
       "      <td>3.000000</td>\n",
       "    </tr>\n",
       "    <tr>\n",
       "      <th>25%</th>\n",
       "      <td>6.400000</td>\n",
       "      <td>0.230000</td>\n",
       "      <td>0.250000</td>\n",
       "      <td>1.800000</td>\n",
       "      <td>0.038000</td>\n",
       "      <td>17.000000</td>\n",
       "      <td>77.000000</td>\n",
       "      <td>0.992330</td>\n",
       "      <td>3.110000</td>\n",
       "      <td>0.430000</td>\n",
       "      <td>9.500000</td>\n",
       "      <td>5.000000</td>\n",
       "    </tr>\n",
       "    <tr>\n",
       "      <th>50%</th>\n",
       "      <td>7.000000</td>\n",
       "      <td>0.290000</td>\n",
       "      <td>0.310000</td>\n",
       "      <td>3.000000</td>\n",
       "      <td>0.047000</td>\n",
       "      <td>29.000000</td>\n",
       "      <td>118.000000</td>\n",
       "      <td>0.994890</td>\n",
       "      <td>3.210000</td>\n",
       "      <td>0.510000</td>\n",
       "      <td>10.300000</td>\n",
       "      <td>6.000000</td>\n",
       "    </tr>\n",
       "    <tr>\n",
       "      <th>75%</th>\n",
       "      <td>7.700000</td>\n",
       "      <td>0.400000</td>\n",
       "      <td>0.390000</td>\n",
       "      <td>8.100000</td>\n",
       "      <td>0.065000</td>\n",
       "      <td>41.000000</td>\n",
       "      <td>156.000000</td>\n",
       "      <td>0.997000</td>\n",
       "      <td>3.320000</td>\n",
       "      <td>0.600000</td>\n",
       "      <td>11.300000</td>\n",
       "      <td>6.000000</td>\n",
       "    </tr>\n",
       "    <tr>\n",
       "      <th>max</th>\n",
       "      <td>15.900000</td>\n",
       "      <td>1.580000</td>\n",
       "      <td>1.660000</td>\n",
       "      <td>65.800000</td>\n",
       "      <td>0.611000</td>\n",
       "      <td>289.000000</td>\n",
       "      <td>440.000000</td>\n",
       "      <td>1.038980</td>\n",
       "      <td>4.010000</td>\n",
       "      <td>2.000000</td>\n",
       "      <td>14.900000</td>\n",
       "      <td>9.000000</td>\n",
       "    </tr>\n",
       "  </tbody>\n",
       "</table>\n",
       "</div>"
      ],
      "text/plain": [
       "       fixed acidity  volatile acidity  citric acid  residual sugar  \\\n",
       "count    6463.000000       6463.000000  6463.000000     6463.000000   \n",
       "mean        7.217755          0.339589     0.318758        5.443958   \n",
       "std         1.297913          0.164639     0.145252        4.756852   \n",
       "min         3.800000          0.080000     0.000000        0.600000   \n",
       "25%         6.400000          0.230000     0.250000        1.800000   \n",
       "50%         7.000000          0.290000     0.310000        3.000000   \n",
       "75%         7.700000          0.400000     0.390000        8.100000   \n",
       "max        15.900000          1.580000     1.660000       65.800000   \n",
       "\n",
       "         chlorides  free sulfur dioxide  total sulfur dioxide      density  \\\n",
       "count  6463.000000          6463.000000           6463.000000  6463.000000   \n",
       "mean      0.056056            30.516865            115.694492     0.994698   \n",
       "std       0.035076            17.758815             56.526736     0.003001   \n",
       "min       0.009000             1.000000              6.000000     0.987110   \n",
       "25%       0.038000            17.000000             77.000000     0.992330   \n",
       "50%       0.047000            29.000000            118.000000     0.994890   \n",
       "75%       0.065000            41.000000            156.000000     0.997000   \n",
       "max       0.611000           289.000000            440.000000     1.038980   \n",
       "\n",
       "                pH    sulphates      alcohol      quality  \n",
       "count  6463.000000  6463.000000  6463.000000  6463.000000  \n",
       "mean      3.218332     0.531150    10.492825     5.818505  \n",
       "std       0.160650     0.148913     1.193128     0.873286  \n",
       "min       2.720000     0.220000     8.000000     3.000000  \n",
       "25%       3.110000     0.430000     9.500000     5.000000  \n",
       "50%       3.210000     0.510000    10.300000     6.000000  \n",
       "75%       3.320000     0.600000    11.300000     6.000000  \n",
       "max       4.010000     2.000000    14.900000     9.000000  "
      ]
     },
     "execution_count": 9,
     "metadata": {},
     "output_type": "execute_result"
    }
   ],
   "source": [
    "# Descripción estadística de las variables numéricas\n",
    "df.describe()"
   ]
  },
  {
   "cell_type": "code",
   "execution_count": 10,
   "id": "2c9dd9dd",
   "metadata": {},
   "outputs": [
    {
     "data": {
      "text/html": [
       "<div>\n",
       "<style scoped>\n",
       "    .dataframe tbody tr th:only-of-type {\n",
       "        vertical-align: middle;\n",
       "    }\n",
       "\n",
       "    .dataframe tbody tr th {\n",
       "        vertical-align: top;\n",
       "    }\n",
       "\n",
       "    .dataframe thead th {\n",
       "        text-align: right;\n",
       "    }\n",
       "</style>\n",
       "<table border=\"1\" class=\"dataframe\">\n",
       "  <thead>\n",
       "    <tr style=\"text-align: right;\">\n",
       "      <th></th>\n",
       "      <th>fixed acidity</th>\n",
       "      <th>volatile acidity</th>\n",
       "      <th>citric acid</th>\n",
       "      <th>residual sugar</th>\n",
       "      <th>chlorides</th>\n",
       "      <th>free sulfur dioxide</th>\n",
       "      <th>total sulfur dioxide</th>\n",
       "      <th>density</th>\n",
       "      <th>pH</th>\n",
       "      <th>sulphates</th>\n",
       "      <th>alcohol</th>\n",
       "      <th>quality</th>\n",
       "    </tr>\n",
       "  </thead>\n",
       "  <tbody>\n",
       "    <tr>\n",
       "      <th>25%</th>\n",
       "      <td>6.4</td>\n",
       "      <td>0.23</td>\n",
       "      <td>0.25</td>\n",
       "      <td>1.8</td>\n",
       "      <td>0.038</td>\n",
       "      <td>17.0</td>\n",
       "      <td>77.0</td>\n",
       "      <td>0.99233</td>\n",
       "      <td>3.11</td>\n",
       "      <td>0.43</td>\n",
       "      <td>9.5</td>\n",
       "      <td>5.0</td>\n",
       "    </tr>\n",
       "    <tr>\n",
       "      <th>50%</th>\n",
       "      <td>7.0</td>\n",
       "      <td>0.29</td>\n",
       "      <td>0.31</td>\n",
       "      <td>3.0</td>\n",
       "      <td>0.047</td>\n",
       "      <td>29.0</td>\n",
       "      <td>118.0</td>\n",
       "      <td>0.99489</td>\n",
       "      <td>3.21</td>\n",
       "      <td>0.51</td>\n",
       "      <td>10.3</td>\n",
       "      <td>6.0</td>\n",
       "    </tr>\n",
       "    <tr>\n",
       "      <th>75%</th>\n",
       "      <td>7.7</td>\n",
       "      <td>0.40</td>\n",
       "      <td>0.39</td>\n",
       "      <td>8.1</td>\n",
       "      <td>0.065</td>\n",
       "      <td>41.0</td>\n",
       "      <td>156.0</td>\n",
       "      <td>0.99700</td>\n",
       "      <td>3.32</td>\n",
       "      <td>0.60</td>\n",
       "      <td>11.3</td>\n",
       "      <td>6.0</td>\n",
       "    </tr>\n",
       "  </tbody>\n",
       "</table>\n",
       "</div>"
      ],
      "text/plain": [
       "     fixed acidity  volatile acidity  citric acid  residual sugar  chlorides  \\\n",
       "25%            6.4              0.23         0.25             1.8      0.038   \n",
       "50%            7.0              0.29         0.31             3.0      0.047   \n",
       "75%            7.7              0.40         0.39             8.1      0.065   \n",
       "\n",
       "     free sulfur dioxide  total sulfur dioxide  density    pH  sulphates  \\\n",
       "25%                 17.0                  77.0  0.99233  3.11       0.43   \n",
       "50%                 29.0                 118.0  0.99489  3.21       0.51   \n",
       "75%                 41.0                 156.0  0.99700  3.32       0.60   \n",
       "\n",
       "     alcohol  quality  \n",
       "25%      9.5      5.0  \n",
       "50%     10.3      6.0  \n",
       "75%     11.3      6.0  "
      ]
     },
     "execution_count": 10,
     "metadata": {},
     "output_type": "execute_result"
    }
   ],
   "source": [
    "# Slicing dataframes con 'loc'\n",
    "df.describe().loc['25%':'75%', ]"
   ]
  },
  {
   "cell_type": "code",
   "execution_count": 11,
   "id": "a2bd0d4b",
   "metadata": {},
   "outputs": [
    {
     "data": {
      "text/html": [
       "<div>\n",
       "<style scoped>\n",
       "    .dataframe tbody tr th:only-of-type {\n",
       "        vertical-align: middle;\n",
       "    }\n",
       "\n",
       "    .dataframe tbody tr th {\n",
       "        vertical-align: top;\n",
       "    }\n",
       "\n",
       "    .dataframe thead th {\n",
       "        text-align: right;\n",
       "    }\n",
       "</style>\n",
       "<table border=\"1\" class=\"dataframe\">\n",
       "  <thead>\n",
       "    <tr style=\"text-align: right;\">\n",
       "      <th></th>\n",
       "      <th>fixed acidity</th>\n",
       "      <th>volatile acidity</th>\n",
       "      <th>citric acid</th>\n",
       "      <th>residual sugar</th>\n",
       "      <th>chlorides</th>\n",
       "      <th>free sulfur dioxide</th>\n",
       "      <th>total sulfur dioxide</th>\n",
       "      <th>density</th>\n",
       "      <th>pH</th>\n",
       "      <th>sulphates</th>\n",
       "      <th>alcohol</th>\n",
       "      <th>quality</th>\n",
       "    </tr>\n",
       "  </thead>\n",
       "  <tbody>\n",
       "    <tr>\n",
       "      <th>25%</th>\n",
       "      <td>6.4</td>\n",
       "      <td>0.23</td>\n",
       "      <td>0.25</td>\n",
       "      <td>1.8</td>\n",
       "      <td>0.038</td>\n",
       "      <td>17.0</td>\n",
       "      <td>77.0</td>\n",
       "      <td>0.99233</td>\n",
       "      <td>3.11</td>\n",
       "      <td>0.43</td>\n",
       "      <td>9.5</td>\n",
       "      <td>5.0</td>\n",
       "    </tr>\n",
       "    <tr>\n",
       "      <th>50%</th>\n",
       "      <td>7.0</td>\n",
       "      <td>0.29</td>\n",
       "      <td>0.31</td>\n",
       "      <td>3.0</td>\n",
       "      <td>0.047</td>\n",
       "      <td>29.0</td>\n",
       "      <td>118.0</td>\n",
       "      <td>0.99489</td>\n",
       "      <td>3.21</td>\n",
       "      <td>0.51</td>\n",
       "      <td>10.3</td>\n",
       "      <td>6.0</td>\n",
       "    </tr>\n",
       "    <tr>\n",
       "      <th>75%</th>\n",
       "      <td>7.7</td>\n",
       "      <td>0.40</td>\n",
       "      <td>0.39</td>\n",
       "      <td>8.1</td>\n",
       "      <td>0.065</td>\n",
       "      <td>41.0</td>\n",
       "      <td>156.0</td>\n",
       "      <td>0.99700</td>\n",
       "      <td>3.32</td>\n",
       "      <td>0.60</td>\n",
       "      <td>11.3</td>\n",
       "      <td>6.0</td>\n",
       "    </tr>\n",
       "  </tbody>\n",
       "</table>\n",
       "</div>"
      ],
      "text/plain": [
       "     fixed acidity  volatile acidity  citric acid  residual sugar  chlorides  \\\n",
       "25%            6.4              0.23         0.25             1.8      0.038   \n",
       "50%            7.0              0.29         0.31             3.0      0.047   \n",
       "75%            7.7              0.40         0.39             8.1      0.065   \n",
       "\n",
       "     free sulfur dioxide  total sulfur dioxide  density    pH  sulphates  \\\n",
       "25%                 17.0                  77.0  0.99233  3.11       0.43   \n",
       "50%                 29.0                 118.0  0.99489  3.21       0.51   \n",
       "75%                 41.0                 156.0  0.99700  3.32       0.60   \n",
       "\n",
       "     alcohol  quality  \n",
       "25%      9.5      5.0  \n",
       "50%     10.3      6.0  \n",
       "75%     11.3      6.0  "
      ]
     },
     "execution_count": 11,
     "metadata": {},
     "output_type": "execute_result"
    }
   ],
   "source": [
    "# Slicing dataframes con 'loc'\n",
    "df.describe().iloc[4:-1,:]"
   ]
  },
  {
   "cell_type": "code",
   "execution_count": 12,
   "id": "53846304",
   "metadata": {},
   "outputs": [
    {
     "data": {
      "text/html": [
       "<div>\n",
       "<style scoped>\n",
       "    .dataframe tbody tr th:only-of-type {\n",
       "        vertical-align: middle;\n",
       "    }\n",
       "\n",
       "    .dataframe tbody tr th {\n",
       "        vertical-align: top;\n",
       "    }\n",
       "\n",
       "    .dataframe thead th {\n",
       "        text-align: right;\n",
       "    }\n",
       "</style>\n",
       "<table border=\"1\" class=\"dataframe\">\n",
       "  <thead>\n",
       "    <tr style=\"text-align: right;\">\n",
       "      <th></th>\n",
       "      <th>type</th>\n",
       "      <th>fixed acidity</th>\n",
       "      <th>volatile acidity</th>\n",
       "      <th>citric acid</th>\n",
       "      <th>residual sugar</th>\n",
       "      <th>chlorides</th>\n",
       "      <th>free sulfur dioxide</th>\n",
       "      <th>total sulfur dioxide</th>\n",
       "      <th>density</th>\n",
       "      <th>pH</th>\n",
       "      <th>sulphates</th>\n",
       "      <th>alcohol</th>\n",
       "      <th>quality</th>\n",
       "      <th>rating</th>\n",
       "    </tr>\n",
       "  </thead>\n",
       "  <tbody>\n",
       "    <tr>\n",
       "      <th>0</th>\n",
       "      <td>white</td>\n",
       "      <td>7.0</td>\n",
       "      <td>0.27</td>\n",
       "      <td>0.36</td>\n",
       "      <td>20.7</td>\n",
       "      <td>0.045</td>\n",
       "      <td>45.0</td>\n",
       "      <td>170.0</td>\n",
       "      <td>1.0010</td>\n",
       "      <td>3.00</td>\n",
       "      <td>0.45</td>\n",
       "      <td>8.8</td>\n",
       "      <td>6</td>\n",
       "      <td>Bueno</td>\n",
       "    </tr>\n",
       "    <tr>\n",
       "      <th>1</th>\n",
       "      <td>white</td>\n",
       "      <td>6.3</td>\n",
       "      <td>0.30</td>\n",
       "      <td>0.34</td>\n",
       "      <td>1.6</td>\n",
       "      <td>0.049</td>\n",
       "      <td>14.0</td>\n",
       "      <td>132.0</td>\n",
       "      <td>0.9940</td>\n",
       "      <td>3.30</td>\n",
       "      <td>0.49</td>\n",
       "      <td>9.5</td>\n",
       "      <td>6</td>\n",
       "      <td>Bueno</td>\n",
       "    </tr>\n",
       "    <tr>\n",
       "      <th>2</th>\n",
       "      <td>white</td>\n",
       "      <td>8.1</td>\n",
       "      <td>0.28</td>\n",
       "      <td>0.40</td>\n",
       "      <td>6.9</td>\n",
       "      <td>0.050</td>\n",
       "      <td>30.0</td>\n",
       "      <td>97.0</td>\n",
       "      <td>0.9951</td>\n",
       "      <td>3.26</td>\n",
       "      <td>0.44</td>\n",
       "      <td>10.1</td>\n",
       "      <td>6</td>\n",
       "      <td>Bueno</td>\n",
       "    </tr>\n",
       "  </tbody>\n",
       "</table>\n",
       "</div>"
      ],
      "text/plain": [
       "    type  fixed acidity  volatile acidity  citric acid  residual sugar  \\\n",
       "0  white            7.0              0.27         0.36            20.7   \n",
       "1  white            6.3              0.30         0.34             1.6   \n",
       "2  white            8.1              0.28         0.40             6.9   \n",
       "\n",
       "   chlorides  free sulfur dioxide  total sulfur dioxide  density    pH  \\\n",
       "0      0.045                 45.0                 170.0   1.0010  3.00   \n",
       "1      0.049                 14.0                 132.0   0.9940  3.30   \n",
       "2      0.050                 30.0                  97.0   0.9951  3.26   \n",
       "\n",
       "   sulphates  alcohol  quality rating  \n",
       "0       0.45      8.8        6  Bueno  \n",
       "1       0.49      9.5        6  Bueno  \n",
       "2       0.44     10.1        6  Bueno  "
      ]
     },
     "execution_count": 12,
     "metadata": {},
     "output_type": "execute_result"
    }
   ],
   "source": [
    "# Creando variables categóricas - Opción #1\n",
    "df['rating'] = df['quality'].apply(lambda x: 'Bueno' if x >= 6 else 'Regular/Malo')\n",
    "df.head(3)"
   ]
  },
  {
   "cell_type": "code",
   "execution_count": 13,
   "id": "d28cfd36",
   "metadata": {},
   "outputs": [
    {
     "data": {
      "text/plain": [
       "0              Bueno\n",
       "1              Bueno\n",
       "2              Bueno\n",
       "3              Bueno\n",
       "4              Bueno\n",
       "            ...     \n",
       "6491           Bueno\n",
       "6492    Regular/Malo\n",
       "6494           Bueno\n",
       "6495    Regular/Malo\n",
       "6496           Bueno\n",
       "Name: quality, Length: 6463, dtype: object"
      ]
     },
     "execution_count": 13,
     "metadata": {},
     "output_type": "execute_result"
    }
   ],
   "source": [
    "# Creando variables categóricas - Opción #2\n",
    "def rating_function(x):\n",
    "    if x >=6:\n",
    "        return 'Bueno'\n",
    "    else:\n",
    "        return 'Regular/Malo'\n",
    "\n",
    "#(df['quality'].apply(rating_function) == df['rating']).sum()\n",
    "df['quality'].apply(rating_function)"
   ]
  },
  {
   "cell_type": "code",
   "execution_count": 52,
   "id": "57a8eb4d",
   "metadata": {},
   "outputs": [
    {
     "name": "stdout",
     "output_type": "stream",
     "text": [
      "Median:  10.3\n",
      "Standard Desv:  1 2\n",
      "Percentile X:  10.3\n",
      "Moda:  white\n"
     ]
    }
   ],
   "source": [
    "# Estadísticos\n",
    "print(\"Median: \", np.median(df[\"alcohol\"]))\n",
    "print(\"Standard Desv: \", round(np.std(df[\"alcohol\"])),2)\n",
    "print(\"Percentile X: \", np.percentile(df[\"alcohol\"],50))\n",
    "print(\"Moda: \", df['type'].mode()[0])"
   ]
  },
  {
   "cell_type": "markdown",
   "id": "f61dbb51",
   "metadata": {},
   "source": [
    "**Conteos e índices**"
   ]
  },
  {
   "cell_type": "code",
   "execution_count": 15,
   "id": "f0525d46",
   "metadata": {},
   "outputs": [
    {
     "data": {
      "text/plain": [
       "white    4870\n",
       "red      1593\n",
       "Name: type, dtype: int64"
      ]
     },
     "execution_count": 15,
     "metadata": {},
     "output_type": "execute_result"
    }
   ],
   "source": [
    "# Cuántos tipos de vinos hay?\n",
    "df['type'].value_counts()"
   ]
  },
  {
   "cell_type": "code",
   "execution_count": 16,
   "id": "5220946e",
   "metadata": {},
   "outputs": [
    {
     "data": {
      "text/html": [
       "<div>\n",
       "<style scoped>\n",
       "    .dataframe tbody tr th:only-of-type {\n",
       "        vertical-align: middle;\n",
       "    }\n",
       "\n",
       "    .dataframe tbody tr th {\n",
       "        vertical-align: top;\n",
       "    }\n",
       "\n",
       "    .dataframe thead th {\n",
       "        text-align: right;\n",
       "    }\n",
       "</style>\n",
       "<table border=\"1\" class=\"dataframe\">\n",
       "  <thead>\n",
       "    <tr style=\"text-align: right;\">\n",
       "      <th></th>\n",
       "      <th>conteos</th>\n",
       "      <th>%</th>\n",
       "    </tr>\n",
       "  </thead>\n",
       "  <tbody>\n",
       "    <tr>\n",
       "      <th>white</th>\n",
       "      <td>4870</td>\n",
       "      <td>75.35</td>\n",
       "    </tr>\n",
       "    <tr>\n",
       "      <th>red</th>\n",
       "      <td>1593</td>\n",
       "      <td>24.65</td>\n",
       "    </tr>\n",
       "  </tbody>\n",
       "</table>\n",
       "</div>"
      ],
      "text/plain": [
       "       conteos      %\n",
       "white     4870  75.35\n",
       "red       1593  24.65"
      ]
     },
     "execution_count": 16,
     "metadata": {},
     "output_type": "execute_result"
    }
   ],
   "source": [
    "# Conteos Totales\n",
    "conteos_v = pd.DataFrame(df['type'].value_counts())\n",
    "conteos_v.columns = ['conteos']\n",
    "conteos_v['%'] = round((conteos_v['conteos']/conteos_v['conteos'].sum())*100,2)\n",
    "#conteos_v.loc[len(conteos_v.index)] = ['Total', conteos_v['conteos'].sum(),conteos_v['%'].sum()] \n",
    "conteos_v"
   ]
  },
  {
   "cell_type": "code",
   "execution_count": 17,
   "id": "349a756c",
   "metadata": {},
   "outputs": [
    {
     "data": {
      "text/html": [
       "<div>\n",
       "<style scoped>\n",
       "    .dataframe tbody tr th:only-of-type {\n",
       "        vertical-align: middle;\n",
       "    }\n",
       "\n",
       "    .dataframe tbody tr th {\n",
       "        vertical-align: top;\n",
       "    }\n",
       "\n",
       "    .dataframe thead th {\n",
       "        text-align: right;\n",
       "    }\n",
       "</style>\n",
       "<table border=\"1\" class=\"dataframe\">\n",
       "  <thead>\n",
       "    <tr style=\"text-align: right;\">\n",
       "      <th></th>\n",
       "      <th>conteos</th>\n",
       "      <th>%</th>\n",
       "      <th>Index vs Total</th>\n",
       "    </tr>\n",
       "  </thead>\n",
       "  <tbody>\n",
       "    <tr>\n",
       "      <th>white</th>\n",
       "      <td>1054</td>\n",
       "      <td>82.93</td>\n",
       "      <td>110.06</td>\n",
       "    </tr>\n",
       "    <tr>\n",
       "      <th>red</th>\n",
       "      <td>217</td>\n",
       "      <td>17.07</td>\n",
       "      <td>69.25</td>\n",
       "    </tr>\n",
       "  </tbody>\n",
       "</table>\n",
       "</div>"
      ],
      "text/plain": [
       "       conteos      %  Index vs Total\n",
       "white     1054  82.93          110.06\n",
       "red        217  17.07           69.25"
      ]
     },
     "execution_count": 17,
     "metadata": {},
     "output_type": "execute_result"
    }
   ],
   "source": [
    "# Conteos de vinos de buena calidad\n",
    "conteos_v_2 = pd.DataFrame(df[df['quality']>=7]['type'].value_counts())\n",
    "conteos_v_2.columns = ['conteos']\n",
    "conteos_v_2['%'] = round((conteos_v_2['conteos']/conteos_v_2['conteos'].sum())*100,2)\n",
    "conteos_v_2['Index vs Total'] = round((conteos_v_2['%']/conteos_v['%'])*100,2)\n",
    "conteos_v_2"
   ]
  },
  {
   "cell_type": "code",
   "execution_count": 18,
   "id": "204edd63",
   "metadata": {},
   "outputs": [
    {
     "data": {
      "text/html": [
       "<style type=\"text/css\">\n",
       "#T_5d087_row0_col2 {\n",
       "  background: green;\n",
       "}\n",
       "#T_5d087_row1_col2 {\n",
       "  background: red;\n",
       "}\n",
       "</style>\n",
       "<table id=\"T_5d087\">\n",
       "  <thead>\n",
       "    <tr>\n",
       "      <th class=\"blank level0\" >&nbsp;</th>\n",
       "      <th id=\"T_5d087_level0_col0\" class=\"col_heading level0 col0\" >conteos</th>\n",
       "      <th id=\"T_5d087_level0_col1\" class=\"col_heading level0 col1\" >%</th>\n",
       "      <th id=\"T_5d087_level0_col2\" class=\"col_heading level0 col2\" >Index vs Total</th>\n",
       "    </tr>\n",
       "  </thead>\n",
       "  <tbody>\n",
       "    <tr>\n",
       "      <th id=\"T_5d087_level0_row0\" class=\"row_heading level0 row0\" >white</th>\n",
       "      <td id=\"T_5d087_row0_col0\" class=\"data row0 col0\" >1054</td>\n",
       "      <td id=\"T_5d087_row0_col1\" class=\"data row0 col1\" >82.930000</td>\n",
       "      <td id=\"T_5d087_row0_col2\" class=\"data row0 col2\" >110.060000</td>\n",
       "    </tr>\n",
       "    <tr>\n",
       "      <th id=\"T_5d087_level0_row1\" class=\"row_heading level0 row1\" >red</th>\n",
       "      <td id=\"T_5d087_row1_col0\" class=\"data row1 col0\" >217</td>\n",
       "      <td id=\"T_5d087_row1_col1\" class=\"data row1 col1\" >17.070000</td>\n",
       "      <td id=\"T_5d087_row1_col2\" class=\"data row1 col2\" >69.250000</td>\n",
       "    </tr>\n",
       "  </tbody>\n",
       "</table>\n"
      ],
      "text/plain": [
       "<pandas.io.formats.style.Styler at 0x7f9d81d45520>"
      ]
     },
     "execution_count": 18,
     "metadata": {},
     "output_type": "execute_result"
    }
   ],
   "source": [
    "# Poniendole color al dataframe\n",
    "def color_index(val):\n",
    "    if val > 110:\n",
    "        color = 'green'\n",
    "    \n",
    "    elif val < 90:\n",
    "        color = 'red'\n",
    "    \n",
    "    else:\n",
    "        color = ''\n",
    "    return 'background: %s' % color\n",
    " \n",
    "conteos_v_2.style.applymap(color_index, subset=['Index vs Total'])"
   ]
  },
  {
   "cell_type": "markdown",
   "id": "36226fdc",
   "metadata": {},
   "source": [
    "**Histogramas y Distribuciones**"
   ]
  },
  {
   "cell_type": "code",
   "execution_count": 19,
   "id": "c9d85ec2",
   "metadata": {},
   "outputs": [
    {
     "data": {
      "image/png": "[encoded data removed]",
      "text/plain": [
       "<Figure size 720x360 with 1 Axes>"
      ]
     },
     "metadata": {
      "needs_background": "light"
     },
     "output_type": "display_data"
    }
   ],
   "source": [
    "fig = plt.figure(figsize=(10,5))\n",
    "sns.countplot(x = df.quality, data=df, hue='type')\n",
    "plt.show()"
   ]
  },
  {
   "cell_type": "code",
   "execution_count": 20,
   "id": "a3bde3b9",
   "metadata": {},
   "outputs": [
    {
     "data": {
      "text/plain": [
       "array([[<AxesSubplot:title={'center':'pH'}>]], dtype=object)"
      ]
     },
     "execution_count": 20,
     "metadata": {},
     "output_type": "execute_result"
    },
    {
     "data": {
      "image/png": "[encoded data removed]",
      "text/plain": [
       "<Figure size 432x288 with 1 Axes>"
      ]
     },
     "metadata": {
      "needs_background": "light"
     },
     "output_type": "display_data"
    }
   ],
   "source": [
    "# Histograma del pH (matplotlib)\n",
    "df.hist(column='pH', bins=20)"
   ]
  },
  {
   "cell_type": "code",
   "execution_count": 21,
   "id": "745786ed",
   "metadata": {},
   "outputs": [
    {
     "data": {
      "image/png": "[encoded data removed]",
      "text/plain": [
       "<Figure size 432x288 with 1 Axes>"
      ]
     },
     "metadata": {
      "needs_background": "light"
     },
     "output_type": "display_data"
    }
   ],
   "source": [
    "# Distribución del pH (seaborn)\n",
    "sns.distplot(df.pH, bins=20, kde=True, color=\"red\")\n",
    "plt.show()"
   ]
  },
  {
   "cell_type": "markdown",
   "id": "bdb6746b",
   "metadata": {},
   "source": [
    "**Box plots**"
   ]
  },
  {
   "cell_type": "code",
   "execution_count": 29,
   "id": "0e2d6590",
   "metadata": {},
   "outputs": [
    {
     "name": "stdout",
     "output_type": "stream",
     "text": [
      "0.25    3.11\n",
      "0.75    3.32\n",
      "Name: pH, dtype: float64\n"
     ]
    },
    {
     "data": {
      "image/png": "[encoded data removed]",
      "text/plain": [
       "<Figure size 432x288 with 1 Axes>"
      ]
     },
     "metadata": {
      "needs_background": "light"
     },
     "output_type": "display_data"
    }
   ],
   "source": [
    "# Boxplot de Alcohol\n",
    "print(df[\"pH\"].quantile(([0.25, 0.75])))\n",
    "sns.boxplot(data=df['pH'])\n",
    "plt.title('Gráfica de pH')\n",
    "plt.show()"
   ]
  },
  {
   "cell_type": "code",
   "execution_count": 23,
   "id": "42ca1b3a",
   "metadata": {},
   "outputs": [
    {
     "data": {
      "image/png": "[encoded data removed]",
      "text/plain": [
       "<Figure size 864x576 with 1 Axes>"
      ]
     },
     "metadata": {
      "needs_background": "light"
     },
     "output_type": "display_data"
    }
   ],
   "source": [
    "# Varias gráficas en una sola\n",
    "# Fuente: https://www.python-graph-gallery.com/\n",
    "plt.figure(figsize=(12,8))\n",
    "\n",
    "summary = df.drop(['free sulfur dioxide', 'total sulfur dioxide', 'quality',\n",
    "                   'residual sugar', 'fixed acidity', 'alcohol', 'pH', 'density'], axis=1)\n",
    "\n",
    "sns.boxplot(data=summary, palette=\"Set3\")\n",
    "\n",
    "plt.title('Análisis de Box Plot')\n",
    "plt.xlabel('Métricas')\n",
    "plt.ylabel('Valores')\n",
    "\n",
    "plt.show()"
   ]
  },
  {
   "cell_type": "code",
   "execution_count": 24,
   "id": "e020dcd3",
   "metadata": {},
   "outputs": [
    {
     "data": {
      "image/png": "[encoded data removed]",
      "text/plain": [
       "<Figure size 1512x1440 with 9 Axes>"
      ]
     },
     "metadata": {
      "needs_background": "light"
     },
     "output_type": "display_data"
    }
   ],
   "source": [
    "# Tamaño de las gráficas (x,y)\n",
    "fig = plt.figure(figsize=(21,20))\n",
    "\n",
    "# Variables a analizar\n",
    "features = [\"alcohol\", \"total sulfur dioxide\", \"residual sugar\", \"volatile acidity\", \n",
    "            \"total sulfur dioxide\", \"chlorides\", \"fixed acidity\", \"density\",\"sulphates\"]\n",
    "\n",
    "# Loop para pasar el código por variable\n",
    "for (i, feature) in enumerate(features):\n",
    "    ax1 = fig.add_subplot(3,3,i+1)\n",
    "    sns.boxplot(x=\"type\", y=feature, data=df);"
   ]
  },
  {
   "cell_type": "markdown",
   "id": "0e5bf76f",
   "metadata": {},
   "source": [
    "**Standard Deviation**"
   ]
  },
  {
   "cell_type": "code",
   "execution_count": 25,
   "id": "2aa09f19",
   "metadata": {},
   "outputs": [
    {
     "data": {
      "image/png": "[encoded data removed]",
      "text/plain": [
       "<Figure size 432x288 with 1 Axes>"
      ]
     },
     "metadata": {
      "needs_background": "light"
     },
     "output_type": "display_data"
    }
   ],
   "source": [
    "mean = df['alcohol'].mean()\n",
    "variance = df['alcohol'].var()\n",
    "\n",
    "df['alcohol'].plot.hist()\n",
    "\n",
    "plt.axvline(mean, color = 'Black', label = 'Mean')\n",
    "plt.axvline(mean - variance, color = 'Red', label = 'Lower Limit')\n",
    "plt.axvline(mean + variance, color = 'Orange', label = 'Upper Limit')\n",
    "\n",
    "plt.legend()\n",
    "plt.show()"
   ]
  },
  {
   "cell_type": "markdown",
   "id": "459aa0ca",
   "metadata": {},
   "source": [
    "**Correlation Matrix**"
   ]
  },
  {
   "cell_type": "code",
   "execution_count": 26,
   "id": "6d5660a6",
   "metadata": {},
   "outputs": [
    {
     "data": {
      "image/png": "[encoded data removed]",
      "text/plain": [
       "<Figure size 1296x720 with 2 Axes>"
      ]
     },
     "metadata": {
      "needs_background": "light"
     },
     "output_type": "display_data"
    }
   ],
   "source": [
    "# Calculando correlaciones\n",
    "corr = df.corr()\n",
    " \n",
    "# Heatmap\n",
    "plt.figure(figsize=(18, 10))\n",
    "\n",
    "sns.heatmap(corr, cmap=sns.diverging_palette(220, 10, as_cmap=True))\n",
    "\n",
    "plt.title('Correlation Matrix',fontsize=25)\n",
    "plt.rcParams.update({'font.size': 15})\n",
    "\n",
    "plt.show()"
   ]
  },
  {
   "cell_type": "code",
   "execution_count": 27,
   "id": "6570408a",
   "metadata": {},
   "outputs": [
    {
     "data": {
      "image/png": "[encoded data removed]",
      "text/plain": [
       "<Figure size 635.25x540 with 12 Axes>"
      ]
     },
     "metadata": {
      "needs_background": "light"
     },
     "output_type": "display_data"
    }
   ],
   "source": [
    "# Visualizaciones por tipos de vinos (seaborn)\n",
    "g = sns.pairplot(df.iloc[:,:4], palette=\"husl\", diag_kind=\"kde\", hue='type')"
   ]
  },
  {
   "cell_type": "markdown",
   "id": "6b9537a7",
   "metadata": {},
   "source": [
    "### 2) Hypothesis Testing 🧪"
   ]
  },
  {
   "cell_type": "markdown",
   "id": "197a5d4c",
   "metadata": {},
   "source": [
    "* https://towardsdatascience.com/hypothesis-testing-with-python-step-by-step-hands-on-tutorial-with-practical-examples-e805975ea96e\n",
    "* https://towardsdatascience.com/hypothesis-testing-with-python-step-by-step-hands-on-tutorial-with-practical-examples-e805975ea96e\n",
    "* https://github.com/eceisik/eip/blob/main/hypothesis_testing_examples.ipynb  "
   ]
  },
  {
   "cell_type": "code",
   "execution_count": 57,
   "id": "e4fe0246",
   "metadata": {},
   "outputs": [],
   "source": [
    "# Instalando la librería\n",
    "#!pip install scikit_posthocs"
   ]
  },
  {
   "cell_type": "code",
   "execution_count": 56,
   "id": "6973e688",
   "metadata": {},
   "outputs": [],
   "source": [
    "# Importando librerías\n",
    "import scikit_posthocs as sp\n",
    "from scipy import stats"
   ]
  },
  {
   "cell_type": "code",
   "execution_count": 53,
   "id": "7d8e9c87",
   "metadata": {},
   "outputs": [],
   "source": [
    "pd.options.display.float_format = '{:,.4f}'.format"
   ]
  },
  {
   "cell_type": "code",
   "execution_count": 58,
   "id": "a68708b7",
   "metadata": {},
   "outputs": [],
   "source": [
    "# Función para probar normalidad\n",
    "def check_normality(data):\n",
    "    test_stat_normality, p_value_normality=stats.shapiro(data)\n",
    "    print(\"p value:%.4f\" % p_value_normality)\n",
    "    if p_value_normality <0.05:\n",
    "        print(\"Reject null hypothesis >> The data is not normally distributed\")\n",
    "    else:\n",
    "        print(\"Fail to reject null hypothesis >> The data is normally distributed\") "
   ]
  },
  {
   "cell_type": "code",
   "execution_count": 59,
   "id": "e5fd6051",
   "metadata": {},
   "outputs": [],
   "source": [
    "# Función para probar homogeneidad\n",
    "# La homocedasticidad es una característica de un modelo de regresión lineal que\n",
    "#implica que la varianza de los errores es constante a lo largo del tiempo.\n",
    "\n",
    "def check_variance_homogeneity(group1, group2):\n",
    "    test_stat_var, p_value_var= stats.levene(group1,group2)\n",
    "    print(\"p value:%.4f\" % p_value_var)\n",
    "    if p_value_var <0.05:\n",
    "        print(\"Reject null hypothesis >> The variances of the samples are different.\")\n",
    "    else:\n",
    "        print(\"Fail to reject null hypothesis >> The variances of the samples are same.\")"
   ]
  },
  {
   "cell_type": "markdown",
   "id": "f683d658",
   "metadata": {},
   "source": [
    "____________________________________________________________________________________"
   ]
  },
  {
   "cell_type": "markdown",
   "id": "30a1544a",
   "metadata": {},
   "source": [
    "**Q1**"
   ]
  },
  {
   "cell_type": "markdown",
   "id": "22e1d158",
   "metadata": {},
   "source": [
    "* Un profesor universitario dio conferencias en línea en lugar de clases presenciales. \n",
    "* Subió clases grabadas para los estudiantes que siguieron el curso de forma asincrónica.\n",
    "* Son los mismo estudiantes, pero en diferentes momentos.\n",
    "* **Hipótesis**: los estudiantes que asisten a clase en el horario de clase y participan en el proceso tienen mejores calificaciones."
   ]
  },
  {
   "cell_type": "code",
   "execution_count": 60,
   "id": "ba1f33f0",
   "metadata": {},
   "outputs": [],
   "source": [
    "sync = np.array([94. , 84.9, 82.6, 69.5, 80.1, 79.6, 81.4, 77.8, 81.7, 78.8, 73.2,\n",
    "                 87.9, 87.9, 93.5, 82.3, 79.3, 78.3, 71.6, 88.6, 74.6, 74.1, 80.6])\n",
    "\n",
    "asyncr =np.array([77.1, 71.7, 91. , 72.2, 74.8, 85.1, 67.6, 69.9, 75.3, 71.7, 65.7,\n",
    "                  72.6, 71.5, 78.2])"
   ]
  },
  {
   "cell_type": "markdown",
   "id": "f66af0ec",
   "metadata": {},
   "source": [
    "**Prueba de Normalidad**:\n",
    "* H0: The data is normally distributed.\n",
    "* H1: The data is not normally distributed.\n",
    "\n",
    "Suponga que alfa = 0.05 Si el valor p es> 0.05, se puede decir que los datos se distribuyen normalmente."
   ]
  },
  {
   "cell_type": "code",
   "execution_count": 63,
   "id": "397c817e",
   "metadata": {},
   "outputs": [
    {
     "name": "stdout",
     "output_type": "stream",
     "text": [
      "p value:0.6556\n",
      "Fail to reject null hypothesis >> The data is normally distributed\n",
      "p value:0.0803\n",
      "Fail to reject null hypothesis >> The data is normally distributed\n"
     ]
    }
   ],
   "source": [
    "check_normality(sync)\n",
    "check_normality(asyncr)"
   ]
  },
  {
   "cell_type": "markdown",
   "id": "6252d981",
   "metadata": {},
   "source": [
    "**Prueba de Homogeneidad**:\n",
    "* H0: The variances of the samples are same.\n",
    "* H1: The variances of the samples are different.\n",
    "\n",
    "Prueba la hipótesis nula de que las varianzas de la población son iguales (llamada homogeneidad de varianza u homocedasticidad). \n",
    "\n",
    "Si el valor p resultante de la prueba de Levene es menor que algún nivel de significación (típicamente 0.05), es poco probable que las diferencias obtenidas en las varianzas de la muestra hayan ocurrido en base al muestreo aleatorio de una población con varianzas iguales."
   ]
  },
  {
   "cell_type": "code",
   "execution_count": 64,
   "id": "de69d121",
   "metadata": {},
   "outputs": [
    {
     "name": "stdout",
     "output_type": "stream",
     "text": [
      "p value:0.8149\n",
      "Fail to reject null hypothesis >> The variances of the samples are same.\n"
     ]
    }
   ],
   "source": [
    "check_variance_homogeneity(sync, asyncr)"
   ]
  },
  {
   "cell_type": "markdown",
   "id": "9e7ee36d",
   "metadata": {},
   "source": [
    "**Prueba de Hipótesis**:"
   ]
  },
  {
   "cell_type": "code",
   "execution_count": 66,
   "id": "2291331b",
   "metadata": {},
   "outputs": [
    {
     "name": "stdout",
     "output_type": "stream",
     "text": [
      "p value:0.00753598\n",
      "Since the hypothesis is one sided >> use p_value/2 >> p_value_one_sided:0.0038\n",
      "Reject null hypothesis\n"
     ]
    }
   ],
   "source": [
    "ttest,p_value = stats.ttest_ind(sync,asyncr)\n",
    "print(\"p value:%.8f\" % p_value)\n",
    "print(\"Since the hypothesis is one sided >> use p_value/2 >> p_value_one_sided:%.4f\" %(p_value/2))\n",
    "if p_value/2 <0.05:\n",
    "    print(\"Reject null hypothesis\")\n",
    "else:\n",
    "    print(\"Fail to reject null hypothesis\")"
   ]
  },
  {
   "cell_type": "markdown",
   "id": "36cfb99d",
   "metadata": {},
   "source": [
    "**Existe evidencia suficiente para concluir que la nota media de los alumnos que siguen la asignatura de forma sincrónica es superior a la de los asincrónicos.**"
   ]
  },
  {
   "cell_type": "markdown",
   "id": "f53b812b",
   "metadata": {},
   "source": [
    "____________________________________________________________________________________"
   ]
  },
  {
   "cell_type": "markdown",
   "id": "4649913b",
   "metadata": {},
   "source": [
    "**Q2**"
   ]
  },
  {
   "cell_type": "markdown",
   "id": "2bb35f6a",
   "metadata": {},
   "source": [
    "* Un pediatra quiere ver el efecto del consumo de fórmula en la ganancia de peso mensual promedio (en gramos) de los bebés.\n",
    "* Recopiló datos de tres grupos diferentes: \n",
    "    - El 1° grupo son los niños amamantados exclusivamente (reciben solo leche materna)\n",
    "    - El 2° grupo son los niños que se alimentan solo con fórmula\n",
    "    - El 3° grupo son los niños amamantados y con fórmula.\n",
    "* **Hipótesis**: Existe una diferencia en los resultados según el tipo de alimentación."
   ]
  },
  {
   "cell_type": "code",
   "execution_count": 68,
   "id": "d9206123",
   "metadata": {},
   "outputs": [],
   "source": [
    "only_breast=np.array([794.1, 716.9, 993. , 724.7, 760.9, 908.2, 659.3 , 690.8, 768.7,\n",
    "       717.3 , 630.7, 729.5, 714.1, 810.3, 583.5, 679.9, 865.1])\n",
    "\n",
    "only_formula=np.array([ 898.8,  881.2,  940.2,  966.2,  957.5, 1061.7, 1046.2,  980.4,\n",
    "        895.6,  919.7, 1074.1,  952.5,  796.3,  859.6,  871.1 , 1047.5,\n",
    "        919.1 , 1160.5,  996.9])\n",
    "\n",
    "both=np.array([976.4, 656.4, 861.2, 706.8, 718.5, 717.1, 759.8, 894.6, 867.6,\n",
    "       805.6, 765.4, 800.3, 789.9, 875.3, 740. , 799.4, 790.3, 795.2 ,\n",
    "       823.6, 818.7, 926.8, 791.7, 948.3])"
   ]
  },
  {
   "cell_type": "markdown",
   "id": "982a2911",
   "metadata": {},
   "source": [
    "**Prueba de Normalidad**:\n",
    "* H0: The data is normally distributed.\n",
    "* H1: The data is not normally distributed.\n",
    "\n",
    "Suponga que alfa = 0.05 Si el valor p es> 0.05, se puede decir que los datos se distribuyen normalmente."
   ]
  },
  {
   "cell_type": "code",
   "execution_count": 69,
   "id": "faee1879",
   "metadata": {},
   "outputs": [
    {
     "name": "stdout",
     "output_type": "stream",
     "text": [
      "p value:0.4694\n",
      "Fail to reject null hypothesis >> The data is normally distributed\n",
      "p value:0.8879\n",
      "Fail to reject null hypothesis >> The data is normally distributed\n",
      "p value:0.7973\n",
      "Fail to reject null hypothesis >> The data is normally distributed\n"
     ]
    }
   ],
   "source": [
    "check_normality(only_breast)\n",
    "check_normality(only_formula)\n",
    "check_normality(both)"
   ]
  },
  {
   "cell_type": "markdown",
   "id": "2cf1de8b",
   "metadata": {},
   "source": [
    "**Prueba de Homogeneidad**:\n",
    "* H0: m1=m2=m3\n",
    "* H1: Al menos uno es diferente"
   ]
  },
  {
   "cell_type": "code",
   "execution_count": 73,
   "id": "a2ebc714",
   "metadata": {},
   "outputs": [
    {
     "name": "stdout",
     "output_type": "stream",
     "text": [
      "p value:0.7673\n",
      "Fail to reject null hypothesis >> The variances of the samples are same.\n"
     ]
    }
   ],
   "source": [
    "stat, pvalue_levene= stats.levene(only_breast,only_formula,both)\n",
    "\n",
    "print(\"p value:%.4f\" % pvalue_levene)\n",
    "\n",
    "if pvalue_levene <0.05:\n",
    "    print(\"Reject null hypothesis >> The variances of the samples are different.\")\n",
    "else:\n",
    "    print(\"Fail to reject null hypothesis >> The variances of the samples are same.\")"
   ]
  },
  {
   "cell_type": "markdown",
   "id": "1689b6c5",
   "metadata": {},
   "source": [
    "**Prueba de Hipótesis**:"
   ]
  },
  {
   "cell_type": "code",
   "execution_count": 74,
   "id": "987f3283",
   "metadata": {},
   "outputs": [
    {
     "name": "stdout",
     "output_type": "stream",
     "text": [
      "p value:0.000000\n",
      "Reject null hypothesis\n"
     ]
    }
   ],
   "source": [
    "F, p_value = stats.f_oneway(only_breast,only_formula,both)\n",
    "print(\"p value:%.6f\" % p_value)\n",
    "if p_value <0.05:\n",
    "    print(\"Reject null hypothesis\")\n",
    "else:\n",
    "    print(\"Fail to reject null hypothesis\")"
   ]
  },
  {
   "cell_type": "markdown",
   "id": "db90ee1a",
   "metadata": {},
   "source": [
    "A este nivel de significación, se puede concluir que al menos uno de los grupos tiene una ganancia de peso promedio mensual diferente."
   ]
  },
  {
   "cell_type": "code",
   "execution_count": 76,
   "id": "28b9b512",
   "metadata": {},
   "outputs": [
    {
     "data": {
      "text/plain": [
       "(749.8235294117648, 959.2157894736845, 809.9521739130436)"
      ]
     },
     "execution_count": 76,
     "metadata": {},
     "output_type": "execute_result"
    }
   ],
   "source": [
    "only_breast.mean(), only_formula.mean(), both.mean()"
   ]
  },
  {
   "cell_type": "markdown",
   "id": "c6514a60",
   "metadata": {},
   "source": [
    "Si se prueban múltiples hipótesis, aumenta la probabilidad de observar un evento raro y, por lo tanto, aumenta la probabilidad de rechazar incorrectamente una hipótesis nula (es decir, cometer un error de tipo I)."
   ]
  },
  {
   "cell_type": "code",
   "execution_count": 79,
   "id": "0a13837c",
   "metadata": {},
   "outputs": [
    {
     "data": {
      "text/html": [
       "<style type=\"text/css\">\n",
       "#T_8f717_row0_col0, #T_8f717_row0_col2, #T_8f717_row1_col1, #T_8f717_row2_col0, #T_8f717_row2_col2 {\n",
       "  background-color: white;\n",
       "}\n",
       "#T_8f717_row0_col1, #T_8f717_row1_col0, #T_8f717_row1_col2, #T_8f717_row2_col1 {\n",
       "  background-color: lightgreen;\n",
       "}\n",
       "</style>\n",
       "<table id=\"T_8f717\">\n",
       "  <thead>\n",
       "    <tr>\n",
       "      <th class=\"blank level0\" >&nbsp;</th>\n",
       "      <th id=\"T_8f717_level0_col0\" class=\"col_heading level0 col0\" >only breast</th>\n",
       "      <th id=\"T_8f717_level0_col1\" class=\"col_heading level0 col1\" >only formula</th>\n",
       "      <th id=\"T_8f717_level0_col2\" class=\"col_heading level0 col2\" >both</th>\n",
       "    </tr>\n",
       "  </thead>\n",
       "  <tbody>\n",
       "    <tr>\n",
       "      <th id=\"T_8f717_level0_row0\" class=\"row_heading level0 row0\" >only breast</th>\n",
       "      <td id=\"T_8f717_row0_col0\" class=\"data row0 col0\" >1.000000</td>\n",
       "      <td id=\"T_8f717_row0_col1\" class=\"data row0 col1\" >0.000000</td>\n",
       "      <td id=\"T_8f717_row0_col2\" class=\"data row0 col2\" >0.129454</td>\n",
       "    </tr>\n",
       "    <tr>\n",
       "      <th id=\"T_8f717_level0_row1\" class=\"row_heading level0 row1\" >only formula</th>\n",
       "      <td id=\"T_8f717_row1_col0\" class=\"data row1 col0\" >0.000000</td>\n",
       "      <td id=\"T_8f717_row1_col1\" class=\"data row1 col1\" >1.000000</td>\n",
       "      <td id=\"T_8f717_row1_col2\" class=\"data row1 col2\" >0.000004</td>\n",
       "    </tr>\n",
       "    <tr>\n",
       "      <th id=\"T_8f717_level0_row2\" class=\"row_heading level0 row2\" >both</th>\n",
       "      <td id=\"T_8f717_row2_col0\" class=\"data row2 col0\" >0.129454</td>\n",
       "      <td id=\"T_8f717_row2_col1\" class=\"data row2 col1\" >0.000004</td>\n",
       "      <td id=\"T_8f717_row2_col2\" class=\"data row2 col2\" >1.000000</td>\n",
       "    </tr>\n",
       "  </tbody>\n",
       "</table>\n"
      ],
      "text/plain": [
       "<pandas.io.formats.style.Styler at 0x7f9d480d9070>"
      ]
     },
     "execution_count": 79,
     "metadata": {},
     "output_type": "execute_result"
    }
   ],
   "source": [
    "posthoc_df= sp.posthoc_ttest([only_breast,only_formula,both], equal_var=True, p_adjust=\"bonferroni\")\n",
    "\n",
    "group_names= [\"only breast\", \"only formula\",\"both\"]\n",
    "posthoc_df.columns= group_names\n",
    "posthoc_df.index= group_names\n",
    "\n",
    "posthoc_df.style.applymap(lambda x: \"background-color:lightgreen\" if x<0.05 else \"background-color: white\")"
   ]
  },
  {
   "cell_type": "markdown",
   "id": "810156ca",
   "metadata": {},
   "source": [
    "____________________________________________________________________________________"
   ]
  },
  {
   "cell_type": "markdown",
   "id": "d4400840",
   "metadata": {},
   "source": [
    "**Q3**"
   ]
  },
  {
   "cell_type": "markdown",
   "id": "aa658211",
   "metadata": {},
   "source": [
    "* Un especialista en RH está interesado en el exceso de tiempo de trabajo de diferentes equipos.\n",
    "* **Hipótesis**: Existe una diferencia entre las horas extra del equipo A y el equipo B."
   ]
  },
  {
   "cell_type": "code",
   "execution_count": 81,
   "id": "9aab3844",
   "metadata": {},
   "outputs": [],
   "source": [
    "test_team=np.array([6.2,  7.1,  1.5,  2,3 ,  2,  1.5,  6.1,  2.4,  2.3, 12.4,\n",
    "                    1.8,  5.3,  3.1, 9.4,  2.3, 4.1])\n",
    "\n",
    "developer_team=np.array([2.3,  2.1,  1.4,  2.0, 8.7,  2.2,  3.1,  4.2,  3.6,\n",
    "                         2.5,  3.1,  6.2, 12.1,  3.9,  2.2, 1.2 ,3.4])"
   ]
  },
  {
   "cell_type": "markdown",
   "id": "60877b6a",
   "metadata": {},
   "source": [
    "**Prueba de Normalidad**:\n",
    "* H0: The data is normally distributed.\n",
    "* H1: The data is not normally distributed.\n",
    "\n",
    "Suponga que alfa = 0.05 Si el valor p es> 0.05, se puede decir que los datos se distribuyen normalmente."
   ]
  },
  {
   "cell_type": "code",
   "execution_count": 83,
   "id": "3f8cfba3",
   "metadata": {},
   "outputs": [
    {
     "name": "stdout",
     "output_type": "stream",
     "text": [
      "p value:0.0046\n",
      "Reject null hypothesis >> The data is not normally distributed\n",
      "p value:0.0005\n",
      "Reject null hypothesis >> The data is not normally distributed\n"
     ]
    }
   ],
   "source": [
    "check_normality(test_team)\n",
    "check_normality(developer_team)"
   ]
  },
  {
   "cell_type": "markdown",
   "id": "ab69aa80",
   "metadata": {},
   "source": [
    "**Prueba de Homogeneidad**:\n",
    "* H0: The variances of the samples are same.\n",
    "* H1: The variances of the samples are different."
   ]
  },
  {
   "cell_type": "code",
   "execution_count": 84,
   "id": "ba5f9231",
   "metadata": {},
   "outputs": [
    {
     "name": "stdout",
     "output_type": "stream",
     "text": [
      "p value:0.5410\n",
      "Fail to reject null hypothesis >> The variances of the samples are same.\n"
     ]
    }
   ],
   "source": [
    "check_variance_homogeneity(test_team, developer_team)"
   ]
  },
  {
   "cell_type": "markdown",
   "id": "a874685e",
   "metadata": {},
   "source": [
    "**Prueba de Hipótesis**:"
   ]
  },
  {
   "cell_type": "code",
   "execution_count": 87,
   "id": "2204fd51",
   "metadata": {},
   "outputs": [
    {
     "name": "stdout",
     "output_type": "stream",
     "text": [
      "p-value:0.8226\n",
      "Fail to reject null hypothesis\n"
     ]
    }
   ],
   "source": [
    "ttest,pvalue = stats.mannwhitneyu(test_team,developer_team, alternative=\"two-sided\")\n",
    "print(\"p-value:%.4f\" % pvalue)\n",
    "if pvalue <0.05:\n",
    "    print(\"Reject null hypothesis\")\n",
    "else:\n",
    "    print(\"Fail to reject null hypothesis\")"
   ]
  },
  {
   "cell_type": "markdown",
   "id": "991778ea",
   "metadata": {},
   "source": [
    "A este nivel de significancia, se puede decir que no existe una diferencia estadísticamente significativa entre el tiempo de exceso de trabajo promedio de los dos equipos."
   ]
  },
  {
   "cell_type": "markdown",
   "id": "6a8d0604",
   "metadata": {},
   "source": [
    "____________________________________________________________________________________"
   ]
  },
  {
   "cell_type": "markdown",
   "id": "445cf743",
   "metadata": {},
   "source": [
    "**Q4**"
   ]
  },
  {
   "cell_type": "markdown",
   "id": "98e2d7a6",
   "metadata": {},
   "source": [
    "* Una empresa de comercio electrónico anuncia regularmente sus campañas en YouTube, Instagram y Facebook. \n",
    "* **Hipótesis**: Hay diferencia entre la cantidad de clientes atraídos por estas plataformas."
   ]
  },
  {
   "cell_type": "code",
   "execution_count": 88,
   "id": "46424e6a",
   "metadata": {},
   "outputs": [],
   "source": [
    "youtube=np.array([1913, 1879, 1939, 2146, 2040, 2127, 2122, 2156, 2036, 1974, 1956,\n",
    "       2146, 2151, 1943, 2125])\n",
    "       \n",
    "instagram =  np.array([2305., 2355., 2203., 2231., 2185., 2420., 2386., 2410., 2340.,\n",
    "       2349., 2241., 2396., 2244., 2267., 2281.])\n",
    "       \n",
    "facebook = np.array([2133., 2522., 2124., 2551., 2293., 2367., 2460., 2311., 2178.,\n",
    "       2113., 2048., 2443., 2265., 2095., 2528.]) "
   ]
  },
  {
   "cell_type": "markdown",
   "id": "26ef5c77",
   "metadata": {},
   "source": [
    "**Prueba de Normalidad**:\n",
    "* H0: The data is normally distributed.\n",
    "* H1: The data is not normally distributed.\n",
    "\n",
    "Suponga que alfa = 0.05 Si el valor p es> 0.05, se puede decir que los datos se distribuyen normalmente."
   ]
  },
  {
   "cell_type": "code",
   "execution_count": 90,
   "id": "30568c72",
   "metadata": {},
   "outputs": [
    {
     "name": "stdout",
     "output_type": "stream",
     "text": [
      "p value:0.0285\n",
      "Reject null hypothesis >> The data is not normally distributed\n",
      "p value:0.4156\n",
      "Fail to reject null hypothesis >> The data is normally distributed\n",
      "p value:0.1716\n",
      "Fail to reject null hypothesis >> The data is normally distributed\n"
     ]
    }
   ],
   "source": [
    "check_normality(youtube)\n",
    "check_normality(instagram)\n",
    "check_normality(facebook)"
   ]
  },
  {
   "cell_type": "markdown",
   "id": "978bda62",
   "metadata": {},
   "source": [
    "**Prueba de Homogeneidad**:\n",
    "* H0: The variances of the samples are same.\n",
    "* H1: The variances of the samples are different."
   ]
  },
  {
   "cell_type": "code",
   "execution_count": 91,
   "id": "bf4b6df5",
   "metadata": {},
   "outputs": [
    {
     "name": "stdout",
     "output_type": "stream",
     "text": [
      "p value:0.0012\n",
      "Reject null hypothesis >> The variances of the samples are different.\n"
     ]
    }
   ],
   "source": [
    "stat, pvalue_levene= stats.levene(youtube, instagram, facebook)\n",
    "\n",
    "print(\"p value:%.4f\" % pvalue_levene)\n",
    "if pvalue_levene <0.05:\n",
    "    print(\"Reject null hypothesis >> The variances of the samples are different.\")\n",
    "else:\n",
    "    print(\"Fail to reject null hypothesis >> The variances of the samples are same.\")"
   ]
  },
  {
   "cell_type": "markdown",
   "id": "91cca40c",
   "metadata": {},
   "source": [
    "**Prueba de Hipótesis**:"
   ]
  },
  {
   "cell_type": "code",
   "execution_count": 92,
   "id": "666abf0b",
   "metadata": {},
   "outputs": [
    {
     "name": "stdout",
     "output_type": "stream",
     "text": [
      "p value:0.000015\n",
      "Reject null hypothesis\n"
     ]
    }
   ],
   "source": [
    "F, p_value = stats.kruskal(youtube, instagram, facebook)\n",
    "print(\"p value:%.6f\" % p_value)\n",
    "if p_value <0.05:\n",
    "    print(\"Reject null hypothesis\")\n",
    "else:\n",
    "    print(\"Fail to reject null hypothesis\")"
   ]
  },
  {
   "cell_type": "code",
   "execution_count": 93,
   "id": "9d9ff75d",
   "metadata": {},
   "outputs": [
    {
     "data": {
      "text/plain": [
       "(2043.5333333333333, 2307.5333333333333, 2295.4)"
      ]
     },
     "execution_count": 93,
     "metadata": {},
     "output_type": "execute_result"
    }
   ],
   "source": [
    "youtube.mean(), instagram.mean(), facebook.mean()"
   ]
  },
  {
   "cell_type": "code",
   "execution_count": 95,
   "id": "7371e6d0",
   "metadata": {},
   "outputs": [
    {
     "data": {
      "text/html": [
       "<style type=\"text/css\">\n",
       "#T_a65a3_row0_col0, #T_a65a3_row1_col1, #T_a65a3_row1_col2, #T_a65a3_row2_col1, #T_a65a3_row2_col2 {\n",
       "  background-color: white;\n",
       "}\n",
       "#T_a65a3_row0_col1, #T_a65a3_row0_col2, #T_a65a3_row1_col0, #T_a65a3_row2_col0 {\n",
       "  background-color: lightgreen;\n",
       "}\n",
       "</style>\n",
       "<table id=\"T_a65a3\">\n",
       "  <thead>\n",
       "    <tr>\n",
       "      <th class=\"blank level0\" >&nbsp;</th>\n",
       "      <th id=\"T_a65a3_level0_col0\" class=\"col_heading level0 col0\" >youtube</th>\n",
       "      <th id=\"T_a65a3_level0_col1\" class=\"col_heading level0 col1\" >instagram</th>\n",
       "      <th id=\"T_a65a3_level0_col2\" class=\"col_heading level0 col2\" >facebook</th>\n",
       "    </tr>\n",
       "  </thead>\n",
       "  <tbody>\n",
       "    <tr>\n",
       "      <th id=\"T_a65a3_level0_row0\" class=\"row_heading level0 row0\" >youtube</th>\n",
       "      <td id=\"T_a65a3_row0_col0\" class=\"data row0 col0\" >1.000000</td>\n",
       "      <td id=\"T_a65a3_row0_col1\" class=\"data row0 col1\" >0.000010</td>\n",
       "      <td id=\"T_a65a3_row0_col2\" class=\"data row0 col2\" >0.002337</td>\n",
       "    </tr>\n",
       "    <tr>\n",
       "      <th id=\"T_a65a3_level0_row1\" class=\"row_heading level0 row1\" >instagram</th>\n",
       "      <td id=\"T_a65a3_row1_col0\" class=\"data row1 col0\" >0.000010</td>\n",
       "      <td id=\"T_a65a3_row1_col1\" class=\"data row1 col1\" >1.000000</td>\n",
       "      <td id=\"T_a65a3_row1_col2\" class=\"data row1 col2\" >1.000000</td>\n",
       "    </tr>\n",
       "    <tr>\n",
       "      <th id=\"T_a65a3_level0_row2\" class=\"row_heading level0 row2\" >facebook</th>\n",
       "      <td id=\"T_a65a3_row2_col0\" class=\"data row2 col0\" >0.002337</td>\n",
       "      <td id=\"T_a65a3_row2_col1\" class=\"data row2 col1\" >1.000000</td>\n",
       "      <td id=\"T_a65a3_row2_col2\" class=\"data row2 col2\" >1.000000</td>\n",
       "    </tr>\n",
       "  </tbody>\n",
       "</table>\n"
      ],
      "text/plain": [
       "<pandas.io.formats.style.Styler at 0x7f9d480beee0>"
      ]
     },
     "execution_count": 95,
     "metadata": {},
     "output_type": "execute_result"
    }
   ],
   "source": [
    "posthoc_df = sp.posthoc_mannwhitney([youtube,instagram, facebook], p_adjust = 'bonferroni')\n",
    "group_names= [\"youtube\", \"instagram\",\"facebook\"]\n",
    "posthoc_df.columns= group_names\n",
    "posthoc_df.index= group_names\n",
    "posthoc_df.style.applymap(lambda x: \"background-color:lightgreen\" if x<0.05 else \"background-color: white\")"
   ]
  },
  {
   "cell_type": "markdown",
   "id": "ef7ffdf9",
   "metadata": {},
   "source": [
    "El número promedio de clientes que provienen de YouTube es diferente al de los demás (en realidad, más pequeño que los demás)."
   ]
  },
  {
   "cell_type": "markdown",
   "id": "be7dfb2a",
   "metadata": {},
   "source": [
    "____________________________________________________________________________________"
   ]
  },
  {
   "cell_type": "markdown",
   "id": "8d05f688",
   "metadata": {},
   "source": [
    "**Q5**"
   ]
  },
  {
   "cell_type": "markdown",
   "id": "9c72c577",
   "metadata": {},
   "source": [
    "* Un Centro de Salud diagnosticó a 18 estudiantes con colesterol alto en el semestre anterior. En consecuencia, se les prescribió un programa de dieta.\n",
    "* Un mes después, los pacientes acudieron para control y se volvió a examinar su nivel de colesterol. \n",
    "* **Hipótesis**: La dieta trajo mejoras en el nivel de colesterol."
   ]
  },
  {
   "cell_type": "code",
   "execution_count": 97,
   "id": "d2beed54",
   "metadata": {},
   "outputs": [],
   "source": [
    "test_results_before_diet=np.array([224, 235, 223, 253, 253, 224, 244, 225, 259, 220, 242, 240, 239, 229, 276, 254, 237, 227])\n",
    "test_results_after_diet=np.array([198, 195, 213, 190, 246, 206, 225, 199, 214, 210, 188, 205, 200, 220, 190, 199, 191, 218])"
   ]
  },
  {
   "cell_type": "markdown",
   "id": "d1803ae3",
   "metadata": {},
   "source": [
    "**Prueba de Normalidad**:\n",
    "* H0: The data is normally distributed.\n",
    "* H1: The data is not normally distributed.\n",
    "\n",
    "Suponga que alfa = 0.05 Si el valor p es> 0.05, se puede decir que los datos se distribuyen normalmente."
   ]
  },
  {
   "cell_type": "code",
   "execution_count": 98,
   "id": "33b91b6a",
   "metadata": {},
   "outputs": [
    {
     "name": "stdout",
     "output_type": "stream",
     "text": [
      "p value:0.1635\n",
      "Fail to reject null hypothesis >> The data is normally distributed\n",
      "p value:0.1003\n",
      "Fail to reject null hypothesis >> The data is normally distributed\n"
     ]
    }
   ],
   "source": [
    "check_normality(test_results_before_diet)\n",
    "check_normality(test_results_after_diet)"
   ]
  },
  {
   "cell_type": "markdown",
   "id": "4688676d",
   "metadata": {},
   "source": [
    "**Prueba de Homogeneidad**:\n",
    "* H0: The variances of the samples are same.\n",
    "* H1: The variances of the samples are different."
   ]
  },
  {
   "cell_type": "code",
   "execution_count": 99,
   "id": "62c231bf",
   "metadata": {},
   "outputs": [
    {
     "name": "stdout",
     "output_type": "stream",
     "text": [
      "p value:0.000008 one tailed p value:0.000004\n",
      "Reject null hypothesis\n"
     ]
    }
   ],
   "source": [
    "test_stat, p_value_paired = stats.ttest_rel(test_results_before_diet,test_results_after_diet)\n",
    "print(\"p value:%.6f\" % p_value_paired , \"one tailed p value:%.6f\" %(p_value_paired/2))\n",
    "if p_value_paired <0.05:\n",
    "    print(\"Reject null hypothesis\")\n",
    "else:\n",
    "    print(\"Fail to reject null hypothesis\")"
   ]
  },
  {
   "cell_type": "markdown",
   "id": "8fce2509",
   "metadata": {},
   "source": [
    "En este nivel de significación, hay evidencia suficiente para concluir que el nivel medio de colesterol de los pacientes ha disminuido después de la dieta."
   ]
  },
  {
   "cell_type": "markdown",
   "id": "129ce65e",
   "metadata": {},
   "source": [
    "____________________________________________________________________________________"
   ]
  },
  {
   "cell_type": "markdown",
   "id": "a44afba4",
   "metadata": {},
   "source": [
    "**Q6**"
   ]
  },
  {
   "cell_type": "markdown",
   "id": "05736a9a",
   "metadata": {},
   "source": [
    "* Un capitalista de riesgo quería invertir en una startup que proporciona compresión de datos sin pérdida de calidad, pero hay dos competidores: PiedPiper y EndFrame.\n",
    "* Inicialmente, creía que el rendimiento de EndFrame podría ser mejor, pero aun así quería probarlo antes de la inversión.\n",
    "* **Hipótesis**: Existen diferencias en la calidad entregada entre los competidores."
   ]
  },
  {
   "cell_type": "code",
   "execution_count": 100,
   "id": "49cef97b",
   "metadata": {},
   "outputs": [],
   "source": [
    "piedpiper=np.array([4.57, 4.55, 5.47, 4.67, 5.41, 5.55, 5.53, 5.63, 3.86, 3.97, 5.44, 3.93, 5.31, 5.17, 4.39, 4.28, 5.25])\n",
    "endframe = np.array([4.27, 3.93, 4.01, 4.07, 3.87, 4.  , 4.  , 3.72, 4.16, 4.1 , 3.9 , 3.97, 4.08, 3.96, 3.96, 3.77, 4.09])"
   ]
  },
  {
   "cell_type": "markdown",
   "id": "d0b1f1d5",
   "metadata": {},
   "source": [
    "**Prueba de Normalidad**:\n",
    "* H0: The data is normally distributed.\n",
    "* H1: The data is not normally distributed.\n",
    "\n",
    "Suponga que alfa = 0.05 Si el valor p es> 0.05, se puede decir que los datos se distribuyen normalmente."
   ]
  },
  {
   "cell_type": "code",
   "execution_count": 101,
   "id": "7db64560",
   "metadata": {},
   "outputs": [
    {
     "name": "stdout",
     "output_type": "stream",
     "text": [
      "p value:0.0304\n",
      "Reject null hypothesis >> The data is not normally distributed\n",
      "p value:0.9587\n",
      "Fail to reject null hypothesis >> The data is normally distributed\n"
     ]
    }
   ],
   "source": [
    "check_normality(piedpiper)\n",
    "check_normality(endframe)"
   ]
  },
  {
   "cell_type": "markdown",
   "id": "70fd46d2",
   "metadata": {},
   "source": [
    "**Prueba de Homogeneidad**:\n",
    "* H0: The variances of the samples are same.\n",
    "* H1: The variances of the samples are different."
   ]
  },
  {
   "cell_type": "code",
   "execution_count": 109,
   "id": "e41bb1d5",
   "metadata": {},
   "outputs": [
    {
     "name": "stdout",
     "output_type": "stream",
     "text": [
      "p value:0.0001\n",
      "Reject null hypothesis >> The variances of the samples are different.\n"
     ]
    }
   ],
   "source": [
    "stat, pvalue_levene= stats.levene(piedpiper, endframe)\n",
    "\n",
    "print(\"p value:%.4f\" % pvalue_levene)\n",
    "if pvalue_levene <0.05:\n",
    "    print(\"Reject null hypothesis >> The variances of the samples are different.\")\n",
    "else:\n",
    "    print(\"Fail to reject null hypothesis >> The variances of the samples are same.\")"
   ]
  },
  {
   "cell_type": "markdown",
   "id": "7bf5657b",
   "metadata": {},
   "source": [
    "**Prueba de Hipótesis**:"
   ]
  },
  {
   "cell_type": "code",
   "execution_count": 102,
   "id": "e9f70b08",
   "metadata": {},
   "outputs": [
    {
     "name": "stdout",
     "output_type": "stream",
     "text": [
      "p-value:0.000214 >> one_tailed_pval:0.000107\n",
      "one sided pvalue:0.000107\n",
      "Reject null hypothesis\n"
     ]
    }
   ],
   "source": [
    "test,pvalue = stats.wilcoxon(endframe,piedpiper) ##alternative default two sided\n",
    "print(\"p-value:%.6f\" %pvalue, \">> one_tailed_pval:%.6f\" %(pvalue/2))\n",
    "\n",
    "test,one_sided_pvalue = stats.wilcoxon(endframe,piedpiper, alternative=\"less\")\n",
    "print(\"one sided pvalue:%.6f\" %(one_sided_pvalue))\n",
    "if pvalue <0.05:\n",
    "    print(\"Reject null hypothesis\")\n",
    "else:\n",
    "    print(\"Fail to recejt null hypothesis\")"
   ]
  },
  {
   "cell_type": "code",
   "execution_count": 103,
   "id": "93b32dbc",
   "metadata": {},
   "outputs": [
    {
     "data": {
      "text/plain": [
       "(4.881176470588235, 3.991764705882353)"
      ]
     },
     "execution_count": 103,
     "metadata": {},
     "output_type": "execute_result"
    }
   ],
   "source": [
    "piedpiper.mean(), endframe.mean()"
   ]
  },
  {
   "cell_type": "markdown",
   "id": "84f1f6cb",
   "metadata": {},
   "source": [
    "En este nivel de significación, hay suficiente evidencia para concluir que el desempeño de PiedPaper es mejor que el de EndFrame."
   ]
  },
  {
   "cell_type": "markdown",
   "id": "d8739767",
   "metadata": {},
   "source": [
    "____________________________________________________________________________________"
   ]
  },
  {
   "cell_type": "markdown",
   "id": "0f85a198",
   "metadata": {},
   "source": [
    "**Q7**"
   ]
  },
  {
   "cell_type": "markdown",
   "id": "5d26d4f0",
   "metadata": {},
   "source": [
    "* Una investigadora tenía curiosidad acerca de si existe una diferencia entre la metodología que desarrolló (C), y los métodos de referencia (A y B).\n",
    "* Diseñó diferentes experimentos y registró la precisión alcanzada por cada método. \n",
    "* Se utilizaron los mismos conjuntos de prueba y para cada método.\n",
    "* **Hipótesis**: Hay diferencias entre los métodos."
   ]
  },
  {
   "cell_type": "code",
   "execution_count": 104,
   "id": "6f96d587",
   "metadata": {},
   "outputs": [],
   "source": [
    "method_A = np.array([89.8, 89.9, 88.6, 88.7, 89.6, 89.7, 89.2, 89.3])\n",
    "method_B =   np.array([90.0, 90.1, 88.8, 88.9, 89.9, 90.0, 89.0, 89.2])\n",
    "method_C = np.array([91.5, 90.7, 90.3, 90.4, 90.2, 90.3, 90.2, 90.3])"
   ]
  },
  {
   "cell_type": "markdown",
   "id": "6c586897",
   "metadata": {},
   "source": [
    "**Prueba de Normalidad**:\n",
    "* H0: The data is normally distributed.\n",
    "* H1: The data is not normally distributed.\n",
    "\n",
    "Suponga que alfa = 0.05 Si el valor p es> 0.05, se puede decir que los datos se distribuyen normalmente."
   ]
  },
  {
   "cell_type": "code",
   "execution_count": 105,
   "id": "a6d6cc2d",
   "metadata": {},
   "outputs": [
    {
     "name": "stdout",
     "output_type": "stream",
     "text": [
      "p value:0.3076\n",
      "Fail to reject null hypothesis >> The data is normally distributed\n",
      "p value:0.0515\n",
      "Fail to reject null hypothesis >> The data is normally distributed\n",
      "p value:0.0016\n",
      "Reject null hypothesis >> The data is not normally distributed\n"
     ]
    }
   ],
   "source": [
    "check_normality(method_A)\n",
    "check_normality(method_B)\n",
    "check_normality(method_C)"
   ]
  },
  {
   "cell_type": "markdown",
   "id": "7a04e7d4",
   "metadata": {},
   "source": [
    "**Prueba de Homogeneidad**:\n",
    "* H0: The variances of the samples are same.\n",
    "* H1: The variances of the samples are different."
   ]
  },
  {
   "cell_type": "code",
   "execution_count": 106,
   "id": "60c3140c",
   "metadata": {},
   "outputs": [
    {
     "name": "stdout",
     "output_type": "stream",
     "text": [
      "p value:0.1953\n",
      "Fail to reject null hypothesis >> The variances of the samples are same.\n"
     ]
    }
   ],
   "source": [
    "stat, pvalue_levene= stats.levene(method_A, method_B, method_C)\n",
    "\n",
    "print(\"p value:%.4f\" % pvalue_levene)\n",
    "if pvalue_levene <0.05:\n",
    "    print(\"Reject null hypothesis >> The variances of the samples are different.\")\n",
    "else:\n",
    "    print(\"Fail to reject null hypothesis >> The variances of the samples are same.\")"
   ]
  },
  {
   "cell_type": "markdown",
   "id": "bc399697",
   "metadata": {},
   "source": [
    "**Prueba de Hipótesis**:"
   ]
  },
  {
   "cell_type": "code",
   "execution_count": 111,
   "id": "3c46cb5d",
   "metadata": {},
   "outputs": [
    {
     "name": "stdout",
     "output_type": "stream",
     "text": [
      "p value:0.0015\n",
      "Reject null hypothesis\n"
     ]
    }
   ],
   "source": [
    "test_stat,p_value = stats.friedmanchisquare(method_A,method_B, method_C)\n",
    "print(\"p value:%.4f\" % p_value)\n",
    "if p_value <0.05:\n",
    "    print(\"Reject null hypothesis\")\n",
    "else:\n",
    "    print(\"Fail to reject null hypothesis\")"
   ]
  },
  {
   "cell_type": "code",
   "execution_count": 113,
   "id": "73c57390",
   "metadata": {},
   "outputs": [
    {
     "data": {
      "text/plain": [
       "(89.35, 89.4875, 90.4875)"
      ]
     },
     "execution_count": 113,
     "metadata": {},
     "output_type": "execute_result"
    }
   ],
   "source": [
    "method_A.mean(), method_B.mean(), method_C.mean()"
   ]
  },
  {
   "cell_type": "code",
   "execution_count": 116,
   "id": "95d1b1df",
   "metadata": {},
   "outputs": [
    {
     "data": {
      "text/html": [
       "<style type=\"text/css\">\n",
       "#T_00d49_row0_col0, #T_00d49_row0_col1, #T_00d49_row1_col0, #T_00d49_row1_col1, #T_00d49_row2_col2 {\n",
       "  background-color: white;\n",
       "}\n",
       "#T_00d49_row0_col2, #T_00d49_row1_col2, #T_00d49_row2_col0, #T_00d49_row2_col1 {\n",
       "  background-color: lightgreen;\n",
       "}\n",
       "</style>\n",
       "<table id=\"T_00d49\">\n",
       "  <thead>\n",
       "    <tr>\n",
       "      <th class=\"blank level0\" >&nbsp;</th>\n",
       "      <th id=\"T_00d49_level0_col0\" class=\"col_heading level0 col0\" >Method A</th>\n",
       "      <th id=\"T_00d49_level0_col1\" class=\"col_heading level0 col1\" >Method B</th>\n",
       "      <th id=\"T_00d49_level0_col2\" class=\"col_heading level0 col2\" >Method C</th>\n",
       "    </tr>\n",
       "  </thead>\n",
       "  <tbody>\n",
       "    <tr>\n",
       "      <th id=\"T_00d49_level0_row0\" class=\"row_heading level0 row0\" >Method A</th>\n",
       "      <td id=\"T_00d49_row0_col0\" class=\"data row0 col0\" >1.000000</td>\n",
       "      <td id=\"T_00d49_row0_col1\" class=\"data row0 col1\" >0.078125</td>\n",
       "      <td id=\"T_00d49_row0_col2\" class=\"data row0 col2\" >0.023438</td>\n",
       "    </tr>\n",
       "    <tr>\n",
       "      <th id=\"T_00d49_level0_row1\" class=\"row_heading level0 row1\" >Method B</th>\n",
       "      <td id=\"T_00d49_row1_col0\" class=\"data row1 col0\" >0.078125</td>\n",
       "      <td id=\"T_00d49_row1_col1\" class=\"data row1 col1\" >1.000000</td>\n",
       "      <td id=\"T_00d49_row1_col2\" class=\"data row1 col2\" >0.023438</td>\n",
       "    </tr>\n",
       "    <tr>\n",
       "      <th id=\"T_00d49_level0_row2\" class=\"row_heading level0 row2\" >Method C</th>\n",
       "      <td id=\"T_00d49_row2_col0\" class=\"data row2 col0\" >0.023438</td>\n",
       "      <td id=\"T_00d49_row2_col1\" class=\"data row2 col1\" >0.023438</td>\n",
       "      <td id=\"T_00d49_row2_col2\" class=\"data row2 col2\" >1.000000</td>\n",
       "    </tr>\n",
       "  </tbody>\n",
       "</table>\n"
      ],
      "text/plain": [
       "<pandas.io.formats.style.Styler at 0x7f9d480e58b0>"
      ]
     },
     "execution_count": 116,
     "metadata": {},
     "output_type": "execute_result"
    }
   ],
   "source": [
    "data = np.array([method_A, method_B, method_C]) \n",
    "posthoc_df=sp.posthoc_wilcoxon(data, p_adjust=\"holm\")\n",
    "# posthoc_df = sp.posthoc_nemenyi_friedman(data.T) ## another option for the posthoc test\n",
    "\n",
    "group_names= [\"Method A\", \"Method B\",\"Method C\"]\n",
    "posthoc_df.columns= group_names\n",
    "posthoc_df.index= group_names\n",
    "posthoc_df.style.applymap(lambda x: \"background-color:lightgreen\" if x<0.05 else \"background-color: white\")"
   ]
  },
  {
   "cell_type": "markdown",
   "id": "e0720d15",
   "metadata": {},
   "source": [
    "El método C superó a los demás y logró mejores puntajes de precisión que los demás."
   ]
  },
  {
   "cell_type": "markdown",
   "id": "c34259f7",
   "metadata": {},
   "source": [
    "____________________________________________________________________________________"
   ]
  },
  {
   "cell_type": "markdown",
   "id": "5d146569",
   "metadata": {},
   "source": [
    "**Q8**"
   ]
  },
  {
   "cell_type": "markdown",
   "id": "c2c545b1",
   "metadata": {},
   "source": [
    "* Un analista de una empresa de inversión financiera siente curiosidad por la relación entre el género y el apetito por el riesgo. \n",
    "* Se tomó una muestra aleatoria de 660 clientes de la base de datos. \n",
    "* **Hipótesis**: Existen diferencias entre género en relación a l apetito por el riesgo."
   ]
  },
  {
   "cell_type": "code",
   "execution_count": 123,
   "id": "ca86de68",
   "metadata": {},
   "outputs": [
    {
     "data": {
      "text/html": [
       "<div>\n",
       "<style scoped>\n",
       "    .dataframe tbody tr th:only-of-type {\n",
       "        vertical-align: middle;\n",
       "    }\n",
       "\n",
       "    .dataframe tbody tr th {\n",
       "        vertical-align: top;\n",
       "    }\n",
       "\n",
       "    .dataframe thead th {\n",
       "        text-align: right;\n",
       "    }\n",
       "</style>\n",
       "<table border=\"1\" class=\"dataframe\">\n",
       "  <thead>\n",
       "    <tr style=\"text-align: right;\">\n",
       "      <th></th>\n",
       "      <th>Very Low</th>\n",
       "      <th>Low</th>\n",
       "      <th>Medium</th>\n",
       "      <th>High</th>\n",
       "      <th>Very High</th>\n",
       "      <th>Total</th>\n",
       "    </tr>\n",
       "    <tr>\n",
       "      <th>Gender/Risk Appetite</th>\n",
       "      <th></th>\n",
       "      <th></th>\n",
       "      <th></th>\n",
       "      <th></th>\n",
       "      <th></th>\n",
       "      <th></th>\n",
       "    </tr>\n",
       "  </thead>\n",
       "  <tbody>\n",
       "    <tr>\n",
       "      <th>Female</th>\n",
       "      <td>53</td>\n",
       "      <td>23</td>\n",
       "      <td>30</td>\n",
       "      <td>36</td>\n",
       "      <td>88</td>\n",
       "      <td>230</td>\n",
       "    </tr>\n",
       "    <tr>\n",
       "      <th>Male</th>\n",
       "      <td>71</td>\n",
       "      <td>48</td>\n",
       "      <td>51</td>\n",
       "      <td>57</td>\n",
       "      <td>203</td>\n",
       "      <td>430</td>\n",
       "    </tr>\n",
       "    <tr>\n",
       "      <th>Total</th>\n",
       "      <td>124</td>\n",
       "      <td>71</td>\n",
       "      <td>81</td>\n",
       "      <td>93</td>\n",
       "      <td>291</td>\n",
       "      <td>660</td>\n",
       "    </tr>\n",
       "  </tbody>\n",
       "</table>\n",
       "</div>"
      ],
      "text/plain": [
       "                      Very Low  Low  Medium  High  Very High  Total\n",
       "Gender/Risk Appetite                                               \n",
       "Female                      53   23      30    36         88    230\n",
       "Male                        71   48      51    57        203    430\n",
       "Total                      124   71      81    93        291    660"
      ]
     },
     "execution_count": 123,
     "metadata": {},
     "output_type": "execute_result"
    }
   ],
   "source": [
    "pd.DataFrame({'Gender/Risk Appetite': ['Female','Male','Total'],\n",
    "              'Very Low': [53,71,124],\n",
    "              'Low': [23,48,71],\n",
    "              'Medium': [30,51,81],\n",
    "              'High': [36,57,93],\n",
    "              'Very High': [88,203,291],\n",
    "              'Total': [230,430,660]\n",
    "             }).set_index(keys='Gender/Risk Appetite')"
   ]
  },
  {
   "cell_type": "markdown",
   "id": "a2b237f0",
   "metadata": {},
   "source": [
    "**Chi2 Test**:\n",
    "* Esta prueba se conoce como la prueba de bondad de ajuste. \n",
    "* Implica que si los datos observados están muy cerca de los datos esperados. El supuesto de esta prueba cada Ei ≥ 5 (en al menos el 80% de las celdas) que se cumple."
   ]
  },
  {
   "cell_type": "code",
   "execution_count": 124,
   "id": "b1201ee4",
   "metadata": {},
   "outputs": [
    {
     "name": "stdout",
     "output_type": "stream",
     "text": [
      "expected frequencies:\n",
      "  [[ 43.21  24.74  28.23  32.41 101.41]\n",
      " [ 80.79  46.26  52.77  60.59 189.59]]\n",
      "degrees of freedom: 4\n",
      "test stat :7.0942\n",
      "p value:0.1310\n"
     ]
    }
   ],
   "source": [
    "from scipy.stats import chi2_contingency\n",
    "\n",
    "obs =np.array([[53, 23, 30, 36, 88],[71, 48, 51, 57, 203]])\n",
    "chi2, p, dof, ex = chi2_contingency(obs, correction=False)\n",
    "\n",
    "print(\"expected frequencies:\\n \", np.round(ex,2))\n",
    "print(\"degrees of freedom:\", dof)\n",
    "print(\"test stat :%.4f\" % chi2)\n",
    "print(\"p value:%.4f\" % p)"
   ]
  },
  {
   "cell_type": "code",
   "execution_count": 126,
   "id": "7fbf6215",
   "metadata": {},
   "outputs": [
    {
     "name": "stdout",
     "output_type": "stream",
     "text": [
      "critical stat:9.4877\n"
     ]
    }
   ],
   "source": [
    "from scipy.stats import chi2\n",
    "## calculate critical stat\n",
    "\n",
    "alpha = 0.05\n",
    "df = (5-1)*(2-1)\n",
    "critical_stat = chi2.ppf((1-alpha), df)\n",
    "print(\"critical stat:%.4f\" % critical_stat)"
   ]
  },
  {
   "cell_type": "markdown",
   "id": "084435e6",
   "metadata": {},
   "source": [
    "Dado que el valor p es mayor que α=0.01 (o la estadística calculada=9.58 es menor que la estadística crítica=13.28), No se puede rechazar H0. A este nivel de significación, se puede concluir que el género y el apetito por el riesgo son independientes."
   ]
  },
  {
   "cell_type": "code",
   "execution_count": null,
   "id": "b3d65312",
   "metadata": {},
   "outputs": [],
   "source": []
  },
  {
   "cell_type": "code",
   "execution_count": null,
   "id": "d9809c39",
   "metadata": {},
   "outputs": [],
   "source": []
  }
 ],
 "metadata": {
  "kernelspec": {
   "display_name": "Python 3 (ipykernel)",
   "language": "python",
   "name": "python3"
  },
  "language_info": {
   "codemirror_mode": {
    "name": "ipython",
    "version": 3
   },
   "file_extension": ".py",
   "mimetype": "text/x-python",
   "name": "python",
   "nbconvert_exporter": "python",
   "pygments_lexer": "ipython3",
   "version": "3.9.12"
  }
 },
 "nbformat": 4,
 "nbformat_minor": 5
}
